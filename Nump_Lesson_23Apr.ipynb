{
 "cells": [
  {
   "cell_type": "markdown",
   "id": "db2b581d",
   "metadata": {},
   "source": [
    "EDA : Exploratory Data Analysis\n",
    "\n",
    "https://www.analyticsvidhya.com/blog/2021/05/exploratory-data-analysis-eda-a-step-by-step-guide/\n",
    "\n",
    "https://towardsdatascience.com/exploratory-data-analysis-8fc1cb20fd15\n",
    "\n",
    "\n",
    "Data Cleaning\n",
    "\n",
    "Data Exploration\n",
    "\n",
    "Feature Engineering\n",
    "\n",
    "\n",
    "\n",
    "Raw Data\n",
    "\n",
    "Cleaned up Data"
   ]
  },
  {
   "cell_type": "markdown",
   "id": "d762116e",
   "metadata": {},
   "source": [
    "Distinguish Attributes\n",
    "Univariate Analysis "
   ]
  },
  {
   "cell_type": "markdown",
   "id": "30f54c14",
   "metadata": {},
   "source": [
    "# Numpy nedir?"
   ]
  },
  {
   "cell_type": "markdown",
   "id": "60278ec0",
   "metadata": {},
   "source": [
    "Numerical Python\n",
    "Sayısal işlemlerin oluşturulması için oluşturulmuş bir kütüphane\n",
    "\n",
    "çok boyutlu arraylerle işlem yapabilmeyi sağlar\n",
    "\n",
    "Hızlıdır (C kod ile yazıldığı için)\n",
    "\n",
    "Hafızada daha az yer kaplar\n",
    "\n",
    "https://www.educba.com/what-is-numpy/\n"
   ]
  },
  {
   "cell_type": "markdown",
   "id": "9ab34da9",
   "metadata": {},
   "source": [
    "ndarray\n",
    "\n",
    "fixed size\n",
    "\n",
    "mathematicl operations"
   ]
  },
  {
   "cell_type": "markdown",
   "id": "e06b924e",
   "metadata": {},
   "source": [
    "Neden Hızlı?\n",
    "\n",
    "Vectorization and Broadcasting özellikleri\n",
    "\n",
    "element-wise işlem yapma özelliği\n",
    "\n",
    "Kullanımı ve okuması kolar\n",
    "\n",
    "bug çıkma olasılığı düşük\n",
    "\n",
    "https://numpy.org/doc/stable/reference/index.html#reference"
   ]
  },
  {
   "cell_type": "markdown",
   "id": "ff930eed",
   "metadata": {},
   "source": [
    "shape(adet, row, column, depth/channel)\n",
    "\n",
    "shape(4, 3, 2) 4,3 lük resimden 2 tane var demek ve şöyle ifade edilir: 2, 4, 3"
   ]
  },
  {
   "cell_type": "markdown",
   "id": "2cbc1360",
   "metadata": {},
   "source": [
    "Creating Array"
   ]
  },
  {
   "cell_type": "code",
   "execution_count": null,
   "id": "d35cee3e",
   "metadata": {},
   "outputs": [],
   "source": [
    "Fonksiyon  (Ör: print)\n",
    "Metod  bir clas a bağlı fonksiyondur. bir işlem/hesap yapar Ör: \n",
    "Attribute clas içerisindeki bir özelliği verir, bir işlem yapmaz"
   ]
  },
  {
   "cell_type": "code",
   "execution_count": null,
   "id": "7a9e189b",
   "metadata": {},
   "outputs": [],
   "source": []
  },
  {
   "cell_type": "code",
   "execution_count": null,
   "id": "1c0bfdc7",
   "metadata": {},
   "outputs": [],
   "source": []
  }
 ],
 "metadata": {
  "kernelspec": {
   "display_name": "Python 3 (ipykernel)",
   "language": "python",
   "name": "python3"
  },
  "language_info": {
   "codemirror_mode": {
    "name": "ipython",
    "version": 3
   },
   "file_extension": ".py",
   "mimetype": "text/x-python",
   "name": "python",
   "nbconvert_exporter": "python",
   "pygments_lexer": "ipython3",
   "version": "3.9.7"
  }
 },
 "nbformat": 4,
 "nbformat_minor": 5
}
