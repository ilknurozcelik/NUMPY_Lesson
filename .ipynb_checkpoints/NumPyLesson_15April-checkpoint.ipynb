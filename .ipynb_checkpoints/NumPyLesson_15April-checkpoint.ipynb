{
 "cells": [
  {
   "cell_type": "markdown",
   "id": "ed88746d",
   "metadata": {},
   "source": [
    "## Creation of Numpy Array"
   ]
  },
  {
   "cell_type": "code",
   "execution_count": 71,
   "id": "599f0f22",
   "metadata": {},
   "outputs": [],
   "source": [
    "import numpy as np  # numpy modülünü np adıyla import ettik."
   ]
  },
  {
   "cell_type": "code",
   "execution_count": 3,
   "id": "00d674e1",
   "metadata": {},
   "outputs": [],
   "source": [
    "# numpy array oluşturmanın en uygun yolu bir python listesini dönüştürmektir. Ör:\n",
    "mylist = [1, 2, 3]"
   ]
  },
  {
   "cell_type": "code",
   "execution_count": 4,
   "id": "f1312478",
   "metadata": {},
   "outputs": [
    {
     "data": {
      "text/plain": [
       "list"
      ]
     },
     "execution_count": 4,
     "metadata": {},
     "output_type": "execute_result"
    }
   ],
   "source": [
    "type(mylist)"
   ]
  },
  {
   "cell_type": "code",
   "execution_count": 5,
   "id": "9b108c81",
   "metadata": {},
   "outputs": [
    {
     "data": {
      "text/plain": [
       "array([1, 2, 3])"
      ]
     },
     "execution_count": 5,
     "metadata": {},
     "output_type": "execute_result"
    }
   ],
   "source": [
    "np.array(mylist)  # Bu şekilde bir listeyi numpy array e dönüştürebilirsiniz."
   ]
  },
  {
   "cell_type": "code",
   "execution_count": 6,
   "id": "06a579d8",
   "metadata": {},
   "outputs": [
    {
     "data": {
      "text/plain": [
       "[1, 2, 3]"
      ]
     },
     "execution_count": 6,
     "metadata": {},
     "output_type": "execute_result"
    }
   ],
   "source": [
    "mylist  # listemi kontrol ettiğimde halen liste olduğunu görebilirim."
   ]
  },
  {
   "cell_type": "code",
   "execution_count": 9,
   "id": "bb8d9063",
   "metadata": {},
   "outputs": [
    {
     "data": {
      "text/plain": [
       "numpy.ndarray"
      ]
     },
     "execution_count": 9,
     "metadata": {},
     "output_type": "execute_result"
    }
   ],
   "source": [
    "# numpy array'i bir değişkene atarsak ve türünü kontrol edersek:\n",
    "myarr = np.array(mylist)\n",
    "myarr\n",
    "type(myarr)  3 bir numpy array olduğunu görebiliriz."
   ]
  },
  {
   "cell_type": "code",
   "execution_count": null,
   "id": "4e864395",
   "metadata": {},
   "outputs": [],
   "source": [
    "# Yukarıdaki örnek tek elemanlı bir vektör haline dönüştü."
   ]
  },
  {
   "cell_type": "code",
   "execution_count": null,
   "id": "6f9cefcd",
   "metadata": {},
   "outputs": [],
   "source": [
    "# Şimdi de iki boyutlu bir array yapalım. Bunun için öncelikle içiçe listelerden oluşan bir liste tanımlayalım."
   ]
  },
  {
   "cell_type": "code",
   "execution_count": 10,
   "id": "1624c6ba",
   "metadata": {},
   "outputs": [],
   "source": [
    "my_matrix = [[1, 2, 3], [4, 5, 6], [7, 8, 9]]"
   ]
  },
  {
   "cell_type": "code",
   "execution_count": 11,
   "id": "47fb1456",
   "metadata": {},
   "outputs": [
    {
     "data": {
      "text/plain": [
       "array([[1, 2, 3],\n",
       "       [4, 5, 6],\n",
       "       [7, 8, 9]])"
      ]
     },
     "execution_count": 11,
     "metadata": {},
     "output_type": "execute_result"
    }
   ],
   "source": [
    "# şimdi de bu listemizi bir numpy arraye dönüştürelim.\n",
    "np.array(my_matrix)  # Görüldüğü gibi 3 satır ve 3 sütundan oluşan 2 boyutlu bir matrix oluştu."
   ]
  },
  {
   "cell_type": "code",
   "execution_count": null,
   "id": "4809d873",
   "metadata": {},
   "outputs": [],
   "source": [
    "# numpy ile kullanılabilecek built-in fonksiyonlara bakalım:\n",
    "\n",
    "# np.arange(start, stop, step)  # bu fonksiyon pythondaki range fonksiyonu ile aynı işlemi yapmaktadır."
   ]
  },
  {
   "cell_type": "code",
   "execution_count": 12,
   "id": "88fafaef",
   "metadata": {},
   "outputs": [
    {
     "data": {
      "text/plain": [
       "array([0, 1, 2, 3, 4, 5, 6, 7, 8, 9])"
      ]
     },
     "execution_count": 12,
     "metadata": {},
     "output_type": "execute_result"
    }
   ],
   "source": [
    "np.arange(0,10)  # 0'dan başlayarak 10' a kadar olan sayıları içeren bir numpy array oluşturdu."
   ]
  },
  {
   "cell_type": "code",
   "execution_count": 16,
   "id": "63e8b42f",
   "metadata": {},
   "outputs": [
    {
     "data": {
      "text/plain": [
       "array([0, 2, 4, 6, 8])"
      ]
     },
     "execution_count": 16,
     "metadata": {},
     "output_type": "execute_result"
    }
   ],
   "source": [
    "np.arange(0,10,2)  # 0'dan başlayıp 2'şer artarak 10'a kadar giden bir array oluşturduk"
   ]
  },
  {
   "cell_type": "code",
   "execution_count": 17,
   "id": "824eee39",
   "metadata": {},
   "outputs": [
    {
     "data": {
      "text/plain": [
       "array([  0,  20,  40,  60,  80, 100])"
      ]
     },
     "execution_count": 17,
     "metadata": {},
     "output_type": "execute_result"
    }
   ],
   "source": [
    "np.arange(0,101,20)  # 0 ' dan başlayarak 100'e kadar giden ve 20'şer artan bir array(dizi) oluşturduk."
   ]
  },
  {
   "cell_type": "code",
   "execution_count": null,
   "id": "6cc03ccd",
   "metadata": {},
   "outputs": [],
   "source": [
    "# Gerçek veri setleri ile çalışırken 1'lerden veya 0'lardan oluşan çok elemanlı sayı dizileri oluşturmak gerekebilir.\n",
    "# Bunun için aşağıdaki yöntem kullanılır."
   ]
  },
  {
   "cell_type": "code",
   "execution_count": 18,
   "id": "23cca27e",
   "metadata": {},
   "outputs": [
    {
     "data": {
      "text/plain": [
       "array([0., 0., 0., 0., 0.])"
      ]
     },
     "execution_count": 18,
     "metadata": {},
     "output_type": "execute_result"
    }
   ],
   "source": [
    "np.zeros(5)  # Bu fonksiyon parantez içerisine yazdığınız sayıda tek boyutlu float 0'lardan oluşan bir vektör oluşturur.\n",
    "# Parantez içerisinde belirtilmediği sürece float veri üretir. "
   ]
  },
  {
   "cell_type": "code",
   "execution_count": 20,
   "id": "26ae886c",
   "metadata": {},
   "outputs": [
    {
     "data": {
      "text/plain": [
       "array([[0., 0., 0., 0., 0.],\n",
       "       [0., 0., 0., 0., 0.],\n",
       "       [0., 0., 0., 0., 0.],\n",
       "       [0., 0., 0., 0., 0.],\n",
       "       [0., 0., 0., 0., 0.]])"
      ]
     },
     "execution_count": 20,
     "metadata": {},
     "output_type": "execute_result"
    }
   ],
   "source": [
    "# İki boyutlu 0'lardan oluşan bir array oluşturmak istiyorsak parantez içerisine TUPLE olarak her bir boyutun sayısı yazılır.\n",
    "# Ör:\n",
    "np.zeros((5,5))  # 5 satır ve 5 sütundan oluşan toplamda 25 elemanlı 0 dizisi oluşturur."
   ]
  },
  {
   "cell_type": "code",
   "execution_count": 21,
   "id": "2c56ede5",
   "metadata": {},
   "outputs": [
    {
     "data": {
      "text/plain": [
       "array([[0., 0., 0., 0., 0.],\n",
       "       [0., 0., 0., 0., 0.]])"
      ]
     },
     "execution_count": 21,
     "metadata": {},
     "output_type": "execute_result"
    }
   ],
   "source": [
    "# şimdi de 2 satır ve 5 sütundan oluşan 2 boyutlu bir dizi oluşturalım.\n",
    "np.zeros((2,5))"
   ]
  },
  {
   "cell_type": "code",
   "execution_count": 22,
   "id": "f1b84c85",
   "metadata": {},
   "outputs": [
    {
     "data": {
      "text/plain": [
       "array([[1., 1., 1., 1.],\n",
       "       [1., 1., 1., 1.],\n",
       "       [1., 1., 1., 1.],\n",
       "       [1., 1., 1., 1.]])"
      ]
     },
     "execution_count": 22,
     "metadata": {},
     "output_type": "execute_result"
    }
   ],
   "source": [
    "np.ones((4,4))  # Benzer şekilde bu fonksiyon ile de elemanları 1 olan 4 satır ve 4 sütundan oluşan bir sayı dizisi oluşturabiliriz."
   ]
  },
  {
   "cell_type": "code",
   "execution_count": null,
   "id": "19fb9473",
   "metadata": {},
   "outputs": [],
   "source": [
    "# array oluşturmanın bir diğer yolu da\n",
    "# np.linspace(start, stop, number of numbers included) fonksiyonunu kullanmaktır.\n",
    "# Burada dizide yer alacak sayıların başlangıç, bitiş değerleri ve dizide yer alacak sayı sayısı belirtilmelidir.\n",
    "# Bu şekilde oluşturulan sayı dizisinde sayılar eşit aralıklarla oluşturulur.\n",
    "# Ör:"
   ]
  },
  {
   "cell_type": "code",
   "execution_count": 28,
   "id": "08a96246",
   "metadata": {},
   "outputs": [
    {
     "data": {
      "text/plain": [
       "array([ 0.,  5., 10.])"
      ]
     },
     "execution_count": 28,
     "metadata": {},
     "output_type": "execute_result"
    }
   ],
   "source": [
    "np.linspace(0,10,3) # 1'den 10'a kadar(10 dahil) sayılardan oluşacak ve toplamda 3 sayı yer alacak bir sayı dizisi oluşturalım.\n",
    "# Görüldüğü gibi EŞİT ARALIKLARLA BELİRLENMİŞ 3 sayıdan oluşan bir sayı dizisi oluşturuldu. "
   ]
  },
  {
   "cell_type": "code",
   "execution_count": 30,
   "id": "ceac7204",
   "metadata": {},
   "outputs": [
    {
     "data": {
      "text/plain": [
       "array([ 0.,  1.,  2.,  3.,  4.,  5.,  6.,  7.,  8.,  9., 10.])"
      ]
     },
     "execution_count": 30,
     "metadata": {},
     "output_type": "execute_result"
    }
   ],
   "source": [
    "# Aynı şekilde 0'dan başlayıp 10 dahil sayılardan oluşan ve 11 sayı içeren bir array oluşturalım.\n",
    "np.linspace(0, 10, 11)"
   ]
  },
  {
   "cell_type": "code",
   "execution_count": 31,
   "id": "2304280c",
   "metadata": {},
   "outputs": [
    {
     "data": {
      "text/plain": [
       "array([0.  , 0.25, 0.5 , 0.75, 1.  , 1.25, 1.5 , 1.75, 2.  , 2.25, 2.5 ,\n",
       "       2.75, 3.  , 3.25, 3.5 , 3.75, 4.  , 4.25, 4.5 , 4.75, 5.  ])"
      ]
     },
     "execution_count": 31,
     "metadata": {},
     "output_type": "execute_result"
    }
   ],
   "source": [
    "np.linspace(0, 5, 21)"
   ]
  },
  {
   "cell_type": "code",
   "execution_count": 32,
   "id": "3722e070",
   "metadata": {},
   "outputs": [
    {
     "data": {
      "text/plain": [
       "21"
      ]
     },
     "execution_count": 32,
     "metadata": {},
     "output_type": "execute_result"
    }
   ],
   "source": [
    "len(np.linspace(0, 5, 21))  # Bu dizinin uzunluğunu kontrol ettiğimizde 21 eleman içerdiğini görebiliriz."
   ]
  },
  {
   "cell_type": "code",
   "execution_count": 33,
   "id": "3f7f255c",
   "metadata": {},
   "outputs": [
    {
     "data": {
      "text/plain": [
       "array([[1., 0., 0., 0., 0.],\n",
       "       [0., 1., 0., 0., 0.],\n",
       "       [0., 0., 1., 0., 0.],\n",
       "       [0., 0., 0., 1., 0.],\n",
       "       [0., 0., 0., 0., 1.]])"
      ]
     },
     "execution_count": 33,
     "metadata": {},
     "output_type": "execute_result"
    }
   ],
   "source": [
    "# Son olarak da array oluşturmak için np.eye() fonksiyonunu kullanabilirsiniz.\n",
    "# Bu bir identity matrix oluşturmak için ve genellikle lineer cebir işlemlerinde kullanılır.\n",
    "# Ör:\n",
    "np.eye(5)  # parantez içerisine yazdığınız tek rakam ile iki boyutlu bir identity matrix oluşturabilirsiniz.\n",
    "# Aşağıda görüldüğü gibi 5 satır ve 5 sütundan oluşan bir identity matrix oluştu."
   ]
  },
  {
   "cell_type": "code",
   "execution_count": 35,
   "id": "6fec66f6",
   "metadata": {},
   "outputs": [
    {
     "data": {
      "text/plain": [
       "array([0.05748568])"
      ]
     },
     "execution_count": 35,
     "metadata": {},
     "output_type": "execute_result"
    }
   ],
   "source": [
    "# Rastgele(Random) olarak array oluşturmak için kullanılabilecek fonksiyonlara bakalım:\n",
    "# np.random.rand()  # Bu fonksiyon belirtilen şekilde(boyutta) random olarak oluşturulan sayılar içeren array oluşturur.\n",
    "# Oluşturulan array deki her bir sayı 0-1 arasında (0 dahil, 1 dahil değil) float sayılardır.\n",
    "\n",
    "np.random.rand(1)  # Bu fonksiyonu her çalıştırdığınızda her seferinde farklı bir sayı ürettiğini görebilirsiniz.\n"
   ]
  },
  {
   "cell_type": "code",
   "execution_count": 36,
   "id": "9c39a2d3",
   "metadata": {},
   "outputs": [
    {
     "data": {
      "text/plain": [
       "array([[0.84889788, 0.02609066, 0.24328188, 0.766619  , 0.01836225,\n",
       "        0.62011927],\n",
       "       [0.93853294, 0.52148003, 0.42707228, 0.99138409, 0.03011161,\n",
       "        0.52382258],\n",
       "       [0.22932675, 0.64851995, 0.0409178 , 0.8627272 , 0.94162627,\n",
       "        0.38206284],\n",
       "       [0.9919543 , 0.87848857, 0.75401375, 0.4820976 , 0.1547341 ,\n",
       "        0.17616026],\n",
       "       [0.72938912, 0.75894688, 0.07539291, 0.76983603, 0.63108311,\n",
       "        0.59558787]])"
      ]
     },
     "execution_count": 36,
     "metadata": {},
     "output_type": "execute_result"
    }
   ],
   "source": [
    "np.random.rand(5,6)  # iki boyutlu bir rastgele sayı dizisi oluşturmak için yukarıdakinden farklı \n",
    "# olarak boyut sayıları doğrudan parantez içine yazılır."
   ]
  },
  {
   "cell_type": "code",
   "execution_count": 37,
   "id": "3c73fbbb",
   "metadata": {},
   "outputs": [
    {
     "data": {
      "text/plain": [
       "array([[0.40938889, 0.60978896],\n",
       "       [0.88300776, 0.36112187],\n",
       "       [0.55657679, 0.8207976 ],\n",
       "       [0.1934366 , 0.96544949],\n",
       "       [0.81349323, 0.5266032 ]])"
      ]
     },
     "execution_count": 37,
     "metadata": {},
     "output_type": "execute_result"
    }
   ],
   "source": [
    "np.random.rand(5,2)"
   ]
  },
  {
   "cell_type": "code",
   "execution_count": null,
   "id": "652c3038",
   "metadata": {},
   "outputs": [],
   "source": [
    "# Standart normal dağılımlı(standart normal distribution) bir array oluşturmak için \n",
    "# np.random.randn() fonksiyonu kullanılır.\n",
    "# Standart normal dağılım normal dağılım kullanılarak yapılan olasılık hesabının zor olduğu durumlarda kullanılır.\n",
    "# Normal dağılımın ortalaması 0' a, varyansı da 1'e eşitlenerek olasılık işlemleri yapılabilir. Bu işlem için kullanılan\n",
    "# yönteme standart normal dağılım denir.\n",
    "# Bu yöntemle negatif sayılar da dizide yer alabilir."
   ]
  },
  {
   "cell_type": "markdown",
   "id": "b9c14fd7",
   "metadata": {},
   "source": [
    "## Normal dağılımı kullanarak bazı olasılık değerlerini elde etmek çok zor ve zahmetli bir iştir.[1] [2][3] Bu yüzden elde edilen normal dağılımın ortalaması 0 a ve varyansı da 1 e eşitlenerek daha kolay işlem yapılması sağlanabilir.[4] Bu işlem için kullanılan yönteme ise standart normal dağılım denir."
   ]
  },
  {
   "cell_type": "code",
   "execution_count": 38,
   "id": "88cc5879",
   "metadata": {},
   "outputs": [
    {
     "data": {
      "text/plain": [
       "array([-0.89114627, -0.71497382,  1.32318309,  1.67826494, -0.82984954,\n",
       "       -0.50482557,  1.12832352, -1.15789404,  1.04981776,  0.61319146])"
      ]
     },
     "execution_count": 38,
     "metadata": {},
     "output_type": "execute_result"
    }
   ],
   "source": [
    "np.random.randn(10)  # standart normal dağılımlı 10 elemandan oluşan bir array oluşturduk."
   ]
  },
  {
   "cell_type": "code",
   "execution_count": 39,
   "id": "58863b8e",
   "metadata": {},
   "outputs": [
    {
     "data": {
      "text/plain": [
       "array([[ 2.1128911 ,  0.48044121, -0.55559057],\n",
       "       [-0.04587215, -0.04064256,  0.97852335]])"
      ]
     },
     "execution_count": 39,
     "metadata": {},
     "output_type": "execute_result"
    }
   ],
   "source": [
    "# Aynı şekilde 2 boyutlu bir array de oluşturulabilir.\n",
    "np.random.randn(2,3)  # 2 satır ve 3 sütundan oluşan standart normal dağılımlı bir array oluşturduk. "
   ]
  },
  {
   "cell_type": "code",
   "execution_count": null,
   "id": "9d0be7e9",
   "metadata": {},
   "outputs": [],
   "source": [
    "# Random integer sayılar içeren array oluşturmak için;\n",
    "# np.random.randint() fonksiyonu kullanılır."
   ]
  },
  {
   "cell_type": "code",
   "execution_count": 42,
   "id": "6e40a4bf",
   "metadata": {},
   "outputs": [
    {
     "data": {
      "text/plain": [
       "array([ 0, 82, 19, 31, 84])"
      ]
     },
     "execution_count": 42,
     "metadata": {},
     "output_type": "execute_result"
    }
   ],
   "source": [
    "# Ör:\n",
    "\n",
    "np.random.randint(0, 101, 5)  # 0 ile bir arasındaki sayılardan rastgele seçilerek 5 elemanlı bir array oluşturduk."
   ]
  },
  {
   "cell_type": "code",
   "execution_count": 43,
   "id": "c98253a2",
   "metadata": {},
   "outputs": [
    {
     "data": {
      "text/plain": [
       "array([[44, 74, 62,  7, 42],\n",
       "       [64, 81, 20, 94,  9],\n",
       "       [54, 63, 89, 91, 59],\n",
       "       [54, 68, 72, 31, 91]])"
      ]
     },
     "execution_count": 43,
     "metadata": {},
     "output_type": "execute_result"
    }
   ],
   "source": [
    "# Aynı şekilde iki boyutlu int sayılardan oluşan bir array oluşturmak için:\n",
    "\n",
    "np.random.randint(0, 101, (4,5))  # 4 satır ve 5 sütundan oluşan ve 0-101 arasındaki sayıları içeren bir array oluşturduk."
   ]
  },
  {
   "cell_type": "code",
   "execution_count": 44,
   "id": "74d4ba9b",
   "metadata": {},
   "outputs": [
    {
     "data": {
      "text/plain": [
       "array([0.37454012, 0.95071431, 0.73199394, 0.59865848])"
      ]
     },
     "execution_count": 44,
     "metadata": {},
     "output_type": "execute_result"
    }
   ],
   "source": [
    "# Random olarak ürettiğiniz bir serinin aynı sayıları içerecek şekilde tekrar üretilmesini istiyorsanız\n",
    "# np.random.seed(arbitrary number) fonksiyonunu kullanırsınız. Ör:\n",
    "\n",
    "np.random.seed(42)   # seed modülünü rastgele bir sayı ile aktif hale getirdikten sonra\n",
    "# aynı hücrede array oluşturma işlemini yapmalısınız.\n",
    "\n",
    "np.random.rand(4)"
   ]
  },
  {
   "cell_type": "code",
   "execution_count": 45,
   "id": "ba2ad67a",
   "metadata": {},
   "outputs": [
    {
     "data": {
      "text/plain": [
       "array([0.15601864, 0.15599452, 0.05808361, 0.86617615])"
      ]
     },
     "execution_count": 45,
     "metadata": {},
     "output_type": "execute_result"
    }
   ],
   "source": [
    "np.random.rand(4)  # seed işlemini yapmadan çalıştırdığımızda farklı sayıları içeren bir seri üretmiş olduk."
   ]
  },
  {
   "cell_type": "code",
   "execution_count": 47,
   "id": "cdf40ebc",
   "metadata": {},
   "outputs": [
    {
     "data": {
      "text/plain": [
       "array([0.37454012, 0.95071431, 0.73199394, 0.59865848])"
      ]
     },
     "execution_count": 47,
     "metadata": {},
     "output_type": "execute_result"
    }
   ],
   "source": [
    "np.random.seed(42)  # seed içerisinde kullanılan abritrary number ile aynı şekilde seri oluşturduğunuzda \n",
    "# çıktının aynı olduğunu görebilirsiniz.\n",
    "\n",
    "np.random.rand(4)"
   ]
  },
  {
   "cell_type": "code",
   "execution_count": 48,
   "id": "5adaf03a",
   "metadata": {},
   "outputs": [
    {
     "data": {
      "text/plain": [
       "array([0.01749027, 0.89157327, 0.28486117, 0.29897638, 0.79203426])"
      ]
     },
     "execution_count": 48,
     "metadata": {},
     "output_type": "execute_result"
    }
   ],
   "source": [
    "# Eğer seed içerisine başka bir sayı yazarsanız bu sefer farklı sayıları içeren bir seri elde edersiniz.\n",
    "# Ör:\n",
    "\n",
    "np.random.seed(48)\n",
    "np.random.rand(5)"
   ]
  },
  {
   "cell_type": "code",
   "execution_count": 49,
   "id": "c5d502f3",
   "metadata": {},
   "outputs": [
    {
     "data": {
      "text/plain": [
       "array([0.01749027, 0.89157327, 0.28486117, 0.29897638, 0.79203426])"
      ]
     },
     "execution_count": 49,
     "metadata": {},
     "output_type": "execute_result"
    }
   ],
   "source": [
    "# 48 arbitrary sayısı ile aynı şekilde tekrar bir seri olulturduğumuzda çıktıdaki değerlerin de aynı olduğunu görebiliriz.\n",
    "\n",
    "np.random.seed(48)\n",
    "np.random.rand(5)"
   ]
  },
  {
   "cell_type": "code",
   "execution_count": 51,
   "id": "71b3dc0a",
   "metadata": {},
   "outputs": [],
   "source": [
    "# Oluşturduğumuz bir array'i bir değişkene atayarak bazı işlemler yapabiliriz.\n",
    "# Ör: \n",
    "\n",
    "arr = np.arange(0,25)  # Burada 0-25 arasında sayılardan oluşan tek boyutlu bir array oluşturarat arr değişkenine atadık."
   ]
  },
  {
   "cell_type": "code",
   "execution_count": 52,
   "id": "90375dd1",
   "metadata": {},
   "outputs": [
    {
     "data": {
      "text/plain": [
       "array([[ 0,  1,  2,  3,  4],\n",
       "       [ 5,  6,  7,  8,  9],\n",
       "       [10, 11, 12, 13, 14],\n",
       "       [15, 16, 17, 18, 19],\n",
       "       [20, 21, 22, 23, 24]])"
      ]
     },
     "execution_count": 52,
     "metadata": {},
     "output_type": "execute_result"
    }
   ],
   "source": [
    "# reshape özelliği ile bir array in boyutunu değiştirebilirsiniz.\n",
    "# burada dikkat edilmesi gereken husus tek boyutlu array deki eleman sayısı ile farklı boyutlara dönüştürüldüğündeki \n",
    "# eleman sayısı aynı olmalı ve ona göre boyut belirlenmelidir.\n",
    "\n",
    "arr.reshape(5,5)  # Burada da arr değişkenini 5 x 5 lik iki boyutlu bir array e dönüştürdük."
   ]
  },
  {
   "cell_type": "code",
   "execution_count": 53,
   "id": "43867b88",
   "metadata": {},
   "outputs": [],
   "source": [
    "# bir array ürettikten sonra o array deki max, min değerleri ve bunların index numaralarını bulmak için \n",
    "# aşağıdaki işlemleri yapabilirsiniz.\n",
    "\n",
    "ranarr = np.random.randint(1, 101, 10)"
   ]
  },
  {
   "cell_type": "code",
   "execution_count": 54,
   "id": "e8b6d907",
   "metadata": {},
   "outputs": [
    {
     "data": {
      "text/plain": [
       "array([93, 81, 30,  7, 87, 32, 47, 49, 92, 29])"
      ]
     },
     "execution_count": 54,
     "metadata": {},
     "output_type": "execute_result"
    }
   ],
   "source": [
    "ranarr"
   ]
  },
  {
   "cell_type": "code",
   "execution_count": 55,
   "id": "82cbaa81",
   "metadata": {},
   "outputs": [
    {
     "data": {
      "text/plain": [
       "93"
      ]
     },
     "execution_count": 55,
     "metadata": {},
     "output_type": "execute_result"
    }
   ],
   "source": [
    "ranarr.max()  # array deki max değeri bulmak için"
   ]
  },
  {
   "cell_type": "code",
   "execution_count": 56,
   "id": "d89847db",
   "metadata": {},
   "outputs": [
    {
     "data": {
      "text/plain": [
       "7"
      ]
     },
     "execution_count": 56,
     "metadata": {},
     "output_type": "execute_result"
    }
   ],
   "source": [
    "ranarr.min()  # array deki min değeri bulmak için"
   ]
  },
  {
   "cell_type": "code",
   "execution_count": 58,
   "id": "7b84fa50",
   "metadata": {},
   "outputs": [
    {
     "data": {
      "text/plain": [
       "0"
      ]
     },
     "execution_count": 58,
     "metadata": {},
     "output_type": "execute_result"
    }
   ],
   "source": [
    "ranarr.argmax()  # array deki max değerin İNDEX değerini bulmak için"
   ]
  },
  {
   "cell_type": "code",
   "execution_count": 59,
   "id": "b319d3ec",
   "metadata": {},
   "outputs": [
    {
     "data": {
      "text/plain": [
       "3"
      ]
     },
     "execution_count": 59,
     "metadata": {},
     "output_type": "execute_result"
    }
   ],
   "source": [
    "ranarr.argmin()  # array deki min değerin İNDEX değerini bulmak için"
   ]
  },
  {
   "cell_type": "code",
   "execution_count": 60,
   "id": "9129b813",
   "metadata": {},
   "outputs": [
    {
     "data": {
      "text/plain": [
       "dtype('int32')"
      ]
     },
     "execution_count": 60,
     "metadata": {},
     "output_type": "execute_result"
    }
   ],
   "source": [
    "ranarr.dtype  # array deki data type larını bulmak için"
   ]
  },
  {
   "cell_type": "code",
   "execution_count": 61,
   "id": "4071747b",
   "metadata": {},
   "outputs": [
    {
     "data": {
      "text/plain": [
       "array([ 0,  1,  2,  3,  4,  5,  6,  7,  8,  9, 10, 11, 12, 13, 14, 15, 16,\n",
       "       17, 18, 19, 20, 21, 22, 23, 24])"
      ]
     },
     "execution_count": 61,
     "metadata": {},
     "output_type": "execute_result"
    }
   ],
   "source": [
    "arr  # Yukarıda ürettiğimiz array üzerinden array in boyutlarını nasıl kontrol ettiğimize bakalım."
   ]
  },
  {
   "cell_type": "code",
   "execution_count": 62,
   "id": "569f1483",
   "metadata": {},
   "outputs": [
    {
     "data": {
      "text/plain": [
       "(25,)"
      ]
     },
     "execution_count": 62,
     "metadata": {},
     "output_type": "execute_result"
    }
   ],
   "source": [
    "# Eğer bunun shape ini kontrol ettiğimde \n",
    "\n",
    "arr.shape  # komutunu kullanırım\n",
    "\n",
    "# sonuçta 25 elemandan oluşan tek boyutlu bir array olduğu sonucunu görürüm."
   ]
  },
  {
   "cell_type": "code",
   "execution_count": 64,
   "id": "070803dc",
   "metadata": {},
   "outputs": [
    {
     "data": {
      "text/plain": [
       "(5, 5)"
      ]
     },
     "execution_count": 64,
     "metadata": {},
     "output_type": "execute_result"
    }
   ],
   "source": [
    "arr = arr.reshape(5, 5)  # Bu array i 5 x 5 lik iki boyutlu bir array'e dönüştürerek yeniden arr değişkenine atarsak;\n",
    "\n",
    "# ve shape ini kontrol edersek\n",
    "\n",
    "arr.shape  # sonuçta 5 satır ve 5 sütundan oluşan iki boyutlu bir array olduğunu görürüz."
   ]
  },
  {
   "cell_type": "code",
   "execution_count": 65,
   "id": "19c667af",
   "metadata": {},
   "outputs": [
    {
     "data": {
      "text/plain": [
       "array([[ 0],\n",
       "       [ 1],\n",
       "       [ 2],\n",
       "       [ 3],\n",
       "       [ 4],\n",
       "       [ 5],\n",
       "       [ 6],\n",
       "       [ 7],\n",
       "       [ 8],\n",
       "       [ 9],\n",
       "       [10],\n",
       "       [11],\n",
       "       [12],\n",
       "       [13],\n",
       "       [14],\n",
       "       [15],\n",
       "       [16],\n",
       "       [17],\n",
       "       [18],\n",
       "       [19],\n",
       "       [20],\n",
       "       [21],\n",
       "       [22],\n",
       "       [23],\n",
       "       [24]])"
      ]
     },
     "execution_count": 65,
     "metadata": {},
     "output_type": "execute_result"
    }
   ],
   "source": [
    "# bu array i 25 x 1 lik bir array e dönüştürürsek 25 satır ve bir sütundan oluşan ve \n",
    "# her bir elemanı köşeli parantez içinde yer alan bir array elde ederiz.\n",
    "\n",
    "arr.reshape(25,1)"
   ]
  },
  {
   "cell_type": "code",
   "execution_count": 66,
   "id": "2113e478",
   "metadata": {},
   "outputs": [
    {
     "data": {
      "text/plain": [
       "array([[ 0,  1,  2,  3,  4,  5,  6,  7,  8,  9, 10, 11, 12, 13, 14, 15,\n",
       "        16, 17, 18, 19, 20, 21, 22, 23, 24]])"
      ]
     },
     "execution_count": 66,
     "metadata": {},
     "output_type": "execute_result"
    }
   ],
   "source": [
    "# Aynı array'i 1 x 25 lik bir array e dönüştürürsek tek satırlık 25 elemanlı aşağıdaki arrayi elde ederiz.\n",
    "# Burada köşeli parantez içinde yeni bir köşeli parantez olduğuna dikkat edelim.\n",
    "\n",
    "arr.reshape(1, 25)"
   ]
  },
  {
   "cell_type": "code",
   "execution_count": 68,
   "id": "dbfdbe33",
   "metadata": {},
   "outputs": [
    {
     "data": {
      "text/plain": [
       "array([ 0,  1,  2,  3,  4,  5,  6,  7,  8,  9, 10, 11, 12, 13, 14, 15, 16,\n",
       "       17, 18, 19, 20, 21, 22, 23, 24])"
      ]
     },
     "execution_count": 68,
     "metadata": {},
     "output_type": "execute_result"
    }
   ],
   "source": [
    "arr.reshape(25,)  # Bu şekilde de orjinal haline dönüştürmüş oluruz."
   ]
  },
  {
   "cell_type": "code",
   "execution_count": 70,
   "id": "61797541",
   "metadata": {},
   "outputs": [
    {
     "data": {
      "text/plain": [
       "array([ 0. ,  0.1,  0.2,  0.3,  0.4,  0.5,  0.6,  0.7,  0.8,  0.9,  1. ,\n",
       "        1.1,  1.2,  1.3,  1.4,  1.5,  1.6,  1.7,  1.8,  1.9,  2. ,  2.1,\n",
       "        2.2,  2.3,  2.4,  2.5,  2.6,  2.7,  2.8,  2.9,  3. ,  3.1,  3.2,\n",
       "        3.3,  3.4,  3.5,  3.6,  3.7,  3.8,  3.9,  4. ,  4.1,  4.2,  4.3,\n",
       "        4.4,  4.5,  4.6,  4.7,  4.8,  4.9,  5. ,  5.1,  5.2,  5.3,  5.4,\n",
       "        5.5,  5.6,  5.7,  5.8,  5.9,  6. ,  6.1,  6.2,  6.3,  6.4,  6.5,\n",
       "        6.6,  6.7,  6.8,  6.9,  7. ,  7.1,  7.2,  7.3,  7.4,  7.5,  7.6,\n",
       "        7.7,  7.8,  7.9,  8. ,  8.1,  8.2,  8.3,  8.4,  8.5,  8.6,  8.7,\n",
       "        8.8,  8.9,  9. ,  9.1,  9.2,  9.3,  9.4,  9.5,  9.6,  9.7,  9.8,\n",
       "        9.9, 10. ])"
      ]
     },
     "execution_count": 70,
     "metadata": {},
     "output_type": "execute_result"
    }
   ],
   "source": [
    "myarray = np.linspace(0, 10, 101)\n",
    "myarray"
   ]
  },
  {
   "cell_type": "markdown",
   "id": "49feac49",
   "metadata": {},
   "source": [
    "# Numpy Array Indexing and Selection"
   ]
  },
  {
   "cell_type": "code",
   "execution_count": null,
   "id": "7e5886f4",
   "metadata": {},
   "outputs": [],
   "source": [
    "# Tek boyutlu arraylerde indeksleme ve slicelama python listelerindekine benzerdir.\n"
   ]
  },
  {
   "cell_type": "code",
   "execution_count": 73,
   "id": "f80f8cd2",
   "metadata": {},
   "outputs": [
    {
     "data": {
      "text/plain": [
       "array([ 0,  1,  2,  3,  4,  5,  6,  7,  8,  9, 10])"
      ]
     },
     "execution_count": 73,
     "metadata": {},
     "output_type": "execute_result"
    }
   ],
   "source": [
    "arr = np.arange(0,11)\n",
    "arr"
   ]
  },
  {
   "cell_type": "code",
   "execution_count": 74,
   "id": "8a427312",
   "metadata": {},
   "outputs": [
    {
     "data": {
      "text/plain": [
       "8"
      ]
     },
     "execution_count": 74,
     "metadata": {},
     "output_type": "execute_result"
    }
   ],
   "source": [
    "arr[8]"
   ]
  },
  {
   "cell_type": "code",
   "execution_count": 75,
   "id": "981b52f7",
   "metadata": {},
   "outputs": [
    {
     "data": {
      "text/plain": [
       "array([1, 2, 3, 4])"
      ]
     },
     "execution_count": 75,
     "metadata": {},
     "output_type": "execute_result"
    }
   ],
   "source": [
    "arr[1:5]"
   ]
  },
  {
   "cell_type": "code",
   "execution_count": 77,
   "id": "3f711dfe",
   "metadata": {},
   "outputs": [
    {
     "data": {
      "text/plain": [
       "array([0, 1, 2, 3, 4])"
      ]
     },
     "execution_count": 77,
     "metadata": {},
     "output_type": "execute_result"
    }
   ],
   "source": [
    "arr[0:5]"
   ]
  },
  {
   "cell_type": "code",
   "execution_count": 81,
   "id": "50dd85fb",
   "metadata": {},
   "outputs": [
    {
     "data": {
      "text/plain": [
       "array([0, 1, 2, 3, 4])"
      ]
     },
     "execution_count": 81,
     "metadata": {},
     "output_type": "execute_result"
    }
   ],
   "source": [
    "arr[:5]"
   ]
  },
  {
   "cell_type": "code",
   "execution_count": 82,
   "id": "fa5a8510",
   "metadata": {},
   "outputs": [
    {
     "data": {
      "text/plain": [
       "array([ 5,  6,  7,  8,  9, 10])"
      ]
     },
     "execution_count": 82,
     "metadata": {},
     "output_type": "execute_result"
    }
   ],
   "source": [
    "arr[5:]"
   ]
  },
  {
   "cell_type": "code",
   "execution_count": 83,
   "id": "1a1d796e",
   "metadata": {},
   "outputs": [
    {
     "data": {
      "text/plain": [
       "array([ 0,  1,  2,  3,  4,  5,  6,  7,  8,  9, 10])"
      ]
     },
     "execution_count": 83,
     "metadata": {},
     "output_type": "execute_result"
    }
   ],
   "source": [
    "# Python listelerinden farklı olarak arraylerde arraylerin belirli bir kısmının veya tamamının değerini\n",
    "# yeni bir değer atayarak değiştirebilirsiniz.\n",
    "# Ör:\n",
    "\n",
    "arr"
   ]
  },
  {
   "cell_type": "code",
   "execution_count": 87,
   "id": "3274611f",
   "metadata": {},
   "outputs": [],
   "source": [
    "arr[0:5] = 100  # arrayin 0-5. indexleri arasındaki elemanların değerini 100 yaptık."
   ]
  },
  {
   "cell_type": "code",
   "execution_count": 85,
   "id": "4c8640fe",
   "metadata": {},
   "outputs": [
    {
     "data": {
      "text/plain": [
       "array([100, 100, 100, 100, 100,   5,   6,   7,   8,   9,  10])"
      ]
     },
     "execution_count": 85,
     "metadata": {},
     "output_type": "execute_result"
    }
   ],
   "source": [
    "arr"
   ]
  },
  {
   "cell_type": "code",
   "execution_count": 88,
   "id": "e54127af",
   "metadata": {},
   "outputs": [],
   "source": [
    "arr = np.arange(0,11)  # arrayimizi yeniden oluşturalım."
   ]
  },
  {
   "cell_type": "code",
   "execution_count": 89,
   "id": "5254e12f",
   "metadata": {},
   "outputs": [
    {
     "data": {
      "text/plain": [
       "array([ 0,  1,  2,  3,  4,  5,  6,  7,  8,  9, 10])"
      ]
     },
     "execution_count": 89,
     "metadata": {},
     "output_type": "execute_result"
    }
   ],
   "source": [
    "arr"
   ]
  },
  {
   "cell_type": "code",
   "execution_count": 91,
   "id": "c416c35f",
   "metadata": {},
   "outputs": [],
   "source": [
    "slice_of_arr = arr[0:5]  # arrayin belirli bir bölümünü yeni bir değişkene atadık."
   ]
  },
  {
   "cell_type": "code",
   "execution_count": 92,
   "id": "3a08e518",
   "metadata": {},
   "outputs": [
    {
     "data": {
      "text/plain": [
       "array([0, 1, 2, 3, 4])"
      ]
     },
     "execution_count": 92,
     "metadata": {},
     "output_type": "execute_result"
    }
   ],
   "source": [
    "slice_of_arr  # yeni değişkenin çıktısını aldığımızda array in atadığımız kısmından oluştuğunu görürüz."
   ]
  },
  {
   "cell_type": "code",
   "execution_count": 95,
   "id": "29131009",
   "metadata": {},
   "outputs": [],
   "source": [
    "slice_of_arr[:] = 99  # bu değişkenimizin taşıdığı değerlerin tamamını 99 yaptık."
   ]
  },
  {
   "cell_type": "code",
   "execution_count": 96,
   "id": "08b58093",
   "metadata": {},
   "outputs": [
    {
     "data": {
      "text/plain": [
       "array([99, 99, 99, 99, 99])"
      ]
     },
     "execution_count": 96,
     "metadata": {},
     "output_type": "execute_result"
    }
   ],
   "source": [
    "slice_of_arr"
   ]
  },
  {
   "cell_type": "code",
   "execution_count": 97,
   "id": "12037bfb",
   "metadata": {},
   "outputs": [
    {
     "data": {
      "text/plain": [
       "array([99, 99, 99, 99, 99,  5,  6,  7,  8,  9, 10])"
      ]
     },
     "execution_count": 97,
     "metadata": {},
     "output_type": "execute_result"
    }
   ],
   "source": [
    "# Yukarıdaki işlemlerden sonra orjinal array'de nasıl bir değişiklik olduğuna bakalım.\n",
    "\n",
    "arr"
   ]
  },
  {
   "cell_type": "code",
   "execution_count": null,
   "id": "0b52d0e0",
   "metadata": {},
   "outputs": [],
   "source": [
    "# Yukarıdaki slicelama ve yeni değişkene atama işleminden sonra yapılan yeni değer atama sonucunda orjinal arrayin\n",
    "# değerlerinin de etkilendiğini ve değiştiğini gördük."
   ]
  },
  {
   "cell_type": "code",
   "execution_count": 98,
   "id": "b862981a",
   "metadata": {},
   "outputs": [],
   "source": [
    "# Eğer orjinal arrayimizin değişmesini istemiyorsak arrayimizi kopyalamalıyız.\n",
    "# Ör:\n",
    "\n",
    "arr_copy = arr.copy()  # işlemi ile orjinal arrayin bir kopyasını oluşturduk."
   ]
  },
  {
   "cell_type": "code",
   "execution_count": 99,
   "id": "853a90ff",
   "metadata": {},
   "outputs": [],
   "source": [
    "arr_copy[:] = 100  # arrayimizin kopyasının tüm elemanlarını 100 yaptık. "
   ]
  },
  {
   "cell_type": "code",
   "execution_count": 100,
   "id": "75e43408",
   "metadata": {},
   "outputs": [
    {
     "data": {
      "text/plain": [
       "array([100, 100, 100, 100, 100, 100, 100, 100, 100, 100, 100])"
      ]
     },
     "execution_count": 100,
     "metadata": {},
     "output_type": "execute_result"
    }
   ],
   "source": [
    "arr_copy"
   ]
  },
  {
   "cell_type": "code",
   "execution_count": 101,
   "id": "cc7956f7",
   "metadata": {},
   "outputs": [
    {
     "data": {
      "text/plain": [
       "array([99, 99, 99, 99, 99,  5,  6,  7,  8,  9, 10])"
      ]
     },
     "execution_count": 101,
     "metadata": {},
     "output_type": "execute_result"
    }
   ],
   "source": [
    "arr  # arrayimizin kopyasında yaptığımız değişikliklerden orjinal arrayin etkilenmediğini ve\n",
    "# bunun copy ile oluşturulan kopyadan kaynaklandığını gördük."
   ]
  },
  {
   "cell_type": "markdown",
   "id": "5e632d47",
   "metadata": {},
   "source": [
    "# iki boyutlu arraylerde indexleme ve koşullu seçim"
   ]
  },
  {
   "cell_type": "code",
   "execution_count": 103,
   "id": "5822cf7e",
   "metadata": {},
   "outputs": [],
   "source": [
    "arr_2d = np.array([[5, 10, 15],[20, 25, 30],[35, 40, 45]])"
   ]
  },
  {
   "cell_type": "code",
   "execution_count": 104,
   "id": "161d0bef",
   "metadata": {},
   "outputs": [
    {
     "data": {
      "text/plain": [
       "array([[ 5, 10, 15],\n",
       "       [20, 25, 30],\n",
       "       [35, 40, 45]])"
      ]
     },
     "execution_count": 104,
     "metadata": {},
     "output_type": "execute_result"
    }
   ],
   "source": [
    "arr_2d"
   ]
  },
  {
   "cell_type": "code",
   "execution_count": 105,
   "id": "44c83bc9",
   "metadata": {},
   "outputs": [
    {
     "data": {
      "text/plain": [
       "(3, 3)"
      ]
     },
     "execution_count": 105,
     "metadata": {},
     "output_type": "execute_result"
    }
   ],
   "source": [
    "arr_2d.shape"
   ]
  },
  {
   "cell_type": "code",
   "execution_count": 106,
   "id": "06ceefac",
   "metadata": {},
   "outputs": [
    {
     "data": {
      "text/plain": [
       "array([ 5, 10, 15])"
      ]
     },
     "execution_count": 106,
     "metadata": {},
     "output_type": "execute_result"
    }
   ],
   "source": [
    "arr_2d[0]  # 0.  satırdeki elemanları getirir."
   ]
  },
  {
   "cell_type": "code",
   "execution_count": 107,
   "id": "8d556c0f",
   "metadata": {},
   "outputs": [
    {
     "data": {
      "text/plain": [
       "array([35, 40, 45])"
      ]
     },
     "execution_count": 107,
     "metadata": {},
     "output_type": "execute_result"
    }
   ],
   "source": [
    "arr_2d[2]  # 2. satırdaki elemanları getirir."
   ]
  },
  {
   "cell_type": "code",
   "execution_count": 108,
   "id": "ec2cb6c7",
   "metadata": {},
   "outputs": [
    {
     "data": {
      "text/plain": [
       "10"
      ]
     },
     "execution_count": 108,
     "metadata": {},
     "output_type": "execute_result"
    }
   ],
   "source": [
    "arr_2d[0][1]  # 0. satırın 1. sütunundaki elemanı getirir."
   ]
  },
  {
   "cell_type": "code",
   "execution_count": 109,
   "id": "370c812c",
   "metadata": {},
   "outputs": [
    {
     "data": {
      "text/plain": [
       "10"
      ]
     },
     "execution_count": 109,
     "metadata": {},
     "output_type": "execute_result"
    }
   ],
   "source": [
    "arr_2d[0, 1]  # Bu da aynı şekilde 0. satırın 1. sütunundaki elemanı getirir."
   ]
  },
  {
   "cell_type": "code",
   "execution_count": 110,
   "id": "329d36e9",
   "metadata": {},
   "outputs": [
    {
     "data": {
      "text/plain": [
       "array([[10, 15],\n",
       "       [25, 30]])"
      ]
     },
     "execution_count": 110,
     "metadata": {},
     "output_type": "execute_result"
    }
   ],
   "source": [
    "arr_2d[:2, 1:]  # 0-2. satırlar arasındaki ile 1. sütüundan sonraki elemanları getirmek için bu şekilde slicelama yapılır."
   ]
  },
  {
   "cell_type": "code",
   "execution_count": 113,
   "id": "b5e9fed9",
   "metadata": {},
   "outputs": [
    {
     "data": {
      "text/plain": [
       "array([ 1,  2,  3,  4,  5,  6,  7,  8,  9, 10])"
      ]
     },
     "execution_count": 113,
     "metadata": {},
     "output_type": "execute_result"
    }
   ],
   "source": [
    "# Şimdi de koşullu seçim nasıl yaapılır konusuna bakalım:\n",
    "\n",
    "arr = np.arange(1, 11)\n",
    "arr"
   ]
  },
  {
   "cell_type": "code",
   "execution_count": 114,
   "id": "e3427818",
   "metadata": {},
   "outputs": [
    {
     "data": {
      "text/plain": [
       "array([False, False, False, False,  True,  True,  True,  True,  True,\n",
       "        True])"
      ]
     },
     "execution_count": 114,
     "metadata": {},
     "output_type": "execute_result"
    }
   ],
   "source": [
    "arr > 4  # arrayde değeri 4'den büyük elemanlar için aşağıdaki boolean çıktıyı üretir."
   ]
  },
  {
   "cell_type": "code",
   "execution_count": 119,
   "id": "b34b50c0",
   "metadata": {},
   "outputs": [],
   "source": [
    "bool_arr = arr > 4  # Bu işlemin sonucunu bir değişkene atayıp aşağıdaki gibi array işlemlerinde kullanabilirim.\n"
   ]
  },
  {
   "cell_type": "code",
   "execution_count": 120,
   "id": "c8db5cac",
   "metadata": {},
   "outputs": [
    {
     "data": {
      "text/plain": [
       "array([ 5,  6,  7,  8,  9, 10])"
      ]
     },
     "execution_count": 120,
     "metadata": {},
     "output_type": "execute_result"
    }
   ],
   "source": [
    "arr[bool_arr]  # arrayimizin bool_arr koşuluna uyan tüm elemanlarını slice ladık."
   ]
  },
  {
   "cell_type": "code",
   "execution_count": 121,
   "id": "6b292dfa",
   "metadata": {},
   "outputs": [
    {
     "data": {
      "text/plain": [
       "array([ 5,  6,  7,  8,  9, 10])"
      ]
     },
     "execution_count": 121,
     "metadata": {},
     "output_type": "execute_result"
    }
   ],
   "source": [
    "# Yukarıdaki koşullu işlemleri daha kısa bir şekilde şöyle yaparız.\n",
    "# Çoğunlukla da bu yöntem kullanılır.:\n",
    "\n",
    "arr[arr>4]"
   ]
  },
  {
   "cell_type": "code",
   "execution_count": 123,
   "id": "c2de4a37",
   "metadata": {},
   "outputs": [
    {
     "data": {
      "text/plain": [
       "6"
      ]
     },
     "execution_count": 123,
     "metadata": {},
     "output_type": "execute_result"
    }
   ],
   "source": [
    "len(arr[arr>4])  # array in eleman sayısını bulmak için"
   ]
  },
  {
   "cell_type": "markdown",
   "id": "6f431d27",
   "metadata": {},
   "source": [
    "# Numpy Operations"
   ]
  },
  {
   "cell_type": "code",
   "execution_count": 124,
   "id": "b985320a",
   "metadata": {},
   "outputs": [],
   "source": [
    "import numpy as np   # Önce numpy modülünü import edelim."
   ]
  },
  {
   "cell_type": "code",
   "execution_count": 126,
   "id": "ca4e8577",
   "metadata": {},
   "outputs": [],
   "source": [
    "arr = np.arange(0,10)  # Klsaik arrayimizi oluşturalım."
   ]
  },
  {
   "cell_type": "code",
   "execution_count": 127,
   "id": "d61d84b0",
   "metadata": {},
   "outputs": [
    {
     "data": {
      "text/plain": [
       "array([0, 1, 2, 3, 4, 5, 6, 7, 8, 9])"
      ]
     },
     "execution_count": 127,
     "metadata": {},
     "output_type": "execute_result"
    }
   ],
   "source": [
    "arr"
   ]
  },
  {
   "cell_type": "code",
   "execution_count": 128,
   "id": "ebd14b83",
   "metadata": {},
   "outputs": [
    {
     "data": {
      "text/plain": [
       "array([ 5,  6,  7,  8,  9, 10, 11, 12, 13, 14])"
      ]
     },
     "execution_count": 128,
     "metadata": {},
     "output_type": "execute_result"
    }
   ],
   "source": [
    "arr + 5  # arr ile 5 'i toplama işlemini yaptığımızda arrayin tüm elemanlarına 5 eklendiğini görürüz."
   ]
  },
  {
   "cell_type": "code",
   "execution_count": 129,
   "id": "cbc2151f",
   "metadata": {},
   "outputs": [
    {
     "data": {
      "text/plain": [
       "array([-2, -1,  0,  1,  2,  3,  4,  5,  6,  7])"
      ]
     },
     "execution_count": 129,
     "metadata": {},
     "output_type": "execute_result"
    }
   ],
   "source": [
    "arr -2  # benzer şekilde arr den 2'yi çıkardığımızda array'in tüm elemanlarından 2'nin çıkarıldığını görebiliriz."
   ]
  },
  {
   "cell_type": "code",
   "execution_count": 130,
   "id": "8e478217",
   "metadata": {},
   "outputs": [
    {
     "data": {
      "text/plain": [
       "array([ 0,  2,  4,  6,  8, 10, 12, 14, 16, 18])"
      ]
     },
     "execution_count": 130,
     "metadata": {},
     "output_type": "execute_result"
    }
   ],
   "source": [
    "arr + arr  # arrayi kendisi ile topladığımızda ise aşağıdaki sonuç elde edilir.\n",
    "# Bu işlemin yapılabilmesi için iki arrayin de aynı uzunlukta olması gerekir."
   ]
  },
  {
   "cell_type": "code",
   "execution_count": 131,
   "id": "25e0ee76",
   "metadata": {},
   "outputs": [
    {
     "data": {
      "text/plain": [
       "array([ 0,  1,  4,  9, 16, 25, 36, 49, 64, 81])"
      ]
     },
     "execution_count": 131,
     "metadata": {},
     "output_type": "execute_result"
    }
   ],
   "source": [
    "arr * arr  # benzer şekilde arrayi kendisi ile de çarpabiliriz."
   ]
  },
  {
   "cell_type": "code",
   "execution_count": 132,
   "id": "943e9e56",
   "metadata": {},
   "outputs": [
    {
     "data": {
      "text/plain": [
       "array([0, 0, 0, 0, 0, 0, 0, 0, 0, 0])"
      ]
     },
     "execution_count": 132,
     "metadata": {},
     "output_type": "execute_result"
    }
   ],
   "source": [
    "arr - arr  # bir array den bir arrayi çıkartabiliriz."
   ]
  },
  {
   "cell_type": "code",
   "execution_count": 134,
   "id": "5066f0ef",
   "metadata": {},
   "outputs": [
    {
     "name": "stderr",
     "output_type": "stream",
     "text": [
      "C:\\Users\\user\\AppData\\Local\\Temp/ipykernel_3720/1643453781.py:1: RuntimeWarning: invalid value encountered in true_divide\n",
      "  arr / arr  # bir arrayi başka bir array'e bölebiliriz.\n"
     ]
    },
    {
     "data": {
      "text/plain": [
       "array([nan,  1.,  1.,  1.,  1.,  1.,  1.,  1.,  1.,  1.])"
      ]
     },
     "execution_count": 134,
     "metadata": {},
     "output_type": "execute_result"
    }
   ],
   "source": [
    "arr / arr  # bir arrayi başka bir array'e bölebiliriz.\n",
    "\n",
    "# Ancak arrayin elemanlarından biri 0 ise bir sayının sıfıra bölünmesi durumunda Runtime Warning uyarısı gelir.\n",
    "# Ve sıfıra bölünen sayı yerine \"nan\" ifadesi yazılır."
   ]
  },
  {
   "cell_type": "code",
   "execution_count": 135,
   "id": "91402cba",
   "metadata": {},
   "outputs": [
    {
     "ename": "ZeroDivisionError",
     "evalue": "division by zero",
     "output_type": "error",
     "traceback": [
      "\u001b[1;31m---------------------------------------------------------------------------\u001b[0m",
      "\u001b[1;31mZeroDivisionError\u001b[0m                         Traceback (most recent call last)",
      "\u001b[1;32m~\\AppData\\Local\\Temp/ipykernel_3720/252851562.py\u001b[0m in \u001b[0;36m<module>\u001b[1;34m\u001b[0m\n\u001b[1;32m----> 1\u001b[1;33m \u001b[1;36m1\u001b[0m \u001b[1;33m/\u001b[0m \u001b[1;36m0\u001b[0m  \u001b[1;31m# Normal python da 1!i sıfıra bölmek istediğimizde hata alırız.\u001b[0m\u001b[1;33m\u001b[0m\u001b[1;33m\u001b[0m\u001b[0m\n\u001b[0m",
      "\u001b[1;31mZeroDivisionError\u001b[0m: division by zero"
     ]
    }
   ],
   "source": [
    "1 / 0  # Normal python da 1!i sıfıra bölmek istediğimizde hata alırız."
   ]
  },
  {
   "cell_type": "code",
   "execution_count": 136,
   "id": "5eae7994",
   "metadata": {},
   "outputs": [
    {
     "name": "stderr",
     "output_type": "stream",
     "text": [
      "C:\\Users\\user\\AppData\\Local\\Temp/ipykernel_3720/1772489496.py:3: RuntimeWarning: divide by zero encountered in true_divide\n",
      "  1 / arr  # 1'i arrayin elemanlarına bölersek, hata değil uyarı alırız ve\n"
     ]
    },
    {
     "data": {
      "text/plain": [
       "array([       inf, 1.        , 0.5       , 0.33333333, 0.25      ,\n",
       "       0.2       , 0.16666667, 0.14285714, 0.125     , 0.11111111])"
      ]
     },
     "execution_count": 136,
     "metadata": {},
     "output_type": "execute_result"
    }
   ],
   "source": [
    "# Benzer şeyi numpy ile yaparsak\n",
    "\n",
    "1 / arr  # 1'i arrayin elemanlarına bölersek, hata değil uyarı alırız ve\n",
    "# arrayin elemanlarından 0'a bölünenin yerinde \"inf\" yer tutucu ifadesi gelir."
   ]
  },
  {
   "cell_type": "code",
   "execution_count": null,
   "id": "f07074c6",
   "metadata": {},
   "outputs": [],
   "source": [
    "# Numpy arraylerle pek çok aritmetik işlemler de yapabiliriz.\n",
    "# Ör:"
   ]
  },
  {
   "cell_type": "code",
   "execution_count": 137,
   "id": "ddfa345e",
   "metadata": {},
   "outputs": [
    {
     "data": {
      "text/plain": [
       "array([0.        , 1.        , 1.41421356, 1.73205081, 2.        ,\n",
       "       2.23606798, 2.44948974, 2.64575131, 2.82842712, 3.        ])"
      ]
     },
     "execution_count": 137,
     "metadata": {},
     "output_type": "execute_result"
    }
   ],
   "source": [
    "np.sqrt(arr)  # arrayin elemanlarının karekökünü almak için bu fonksiyon kullanılır."
   ]
  },
  {
   "cell_type": "code",
   "execution_count": 138,
   "id": "f5a5a60d",
   "metadata": {},
   "outputs": [
    {
     "data": {
      "text/plain": [
       "array([ 0.        ,  0.84147098,  0.90929743,  0.14112001, -0.7568025 ,\n",
       "       -0.95892427, -0.2794155 ,  0.6569866 ,  0.98935825,  0.41211849])"
      ]
     },
     "execution_count": 138,
     "metadata": {},
     "output_type": "execute_result"
    }
   ],
   "source": [
    "np.sin(arr)  # trigonometrik foksiyonlar da yapılabilir. Burada sinuslerini bulduk."
   ]
  },
  {
   "cell_type": "code",
   "execution_count": 139,
   "id": "46607743",
   "metadata": {},
   "outputs": [
    {
     "name": "stderr",
     "output_type": "stream",
     "text": [
      "C:\\Users\\user\\AppData\\Local\\Temp/ipykernel_3720/1304882821.py:1: RuntimeWarning: divide by zero encountered in log\n",
      "  np.log(arr)  # arraydeki elemanların log larını da alabiliriz.\n"
     ]
    },
    {
     "data": {
      "text/plain": [
       "array([      -inf, 0.        , 0.69314718, 1.09861229, 1.38629436,\n",
       "       1.60943791, 1.79175947, 1.94591015, 2.07944154, 2.19722458])"
      ]
     },
     "execution_count": 139,
     "metadata": {},
     "output_type": "execute_result"
    }
   ],
   "source": [
    "np.log(arr)  # arraydeki elemanların log larını da alabiliriz."
   ]
  },
  {
   "cell_type": "markdown",
   "id": "a12cbd7a",
   "metadata": {},
   "source": [
    "# Arraylerle yapılabilecek Basit İstatistiksel İşlemler"
   ]
  },
  {
   "cell_type": "code",
   "execution_count": 141,
   "id": "f52b200e",
   "metadata": {},
   "outputs": [
    {
     "data": {
      "text/plain": [
       "array([0, 1, 2, 3, 4, 5, 6, 7, 8, 9])"
      ]
     },
     "execution_count": 141,
     "metadata": {},
     "output_type": "execute_result"
    }
   ],
   "source": [
    "arr"
   ]
  },
  {
   "cell_type": "code",
   "execution_count": 142,
   "id": "5d0b9525",
   "metadata": {},
   "outputs": [
    {
     "data": {
      "text/plain": [
       "45"
      ]
     },
     "execution_count": 142,
     "metadata": {},
     "output_type": "execute_result"
    }
   ],
   "source": [
    "arr.sum()  # arrayin elemanlarının toplamını verir."
   ]
  },
  {
   "cell_type": "code",
   "execution_count": 143,
   "id": "66c0727f",
   "metadata": {},
   "outputs": [
    {
     "data": {
      "text/plain": [
       "4.5"
      ]
     },
     "execution_count": 143,
     "metadata": {},
     "output_type": "execute_result"
    }
   ],
   "source": [
    "arr.mean()  # arrayin elemanlarını ortalamasını bulmak için kullanılır."
   ]
  },
  {
   "cell_type": "code",
   "execution_count": 145,
   "id": "8952e962",
   "metadata": {},
   "outputs": [
    {
     "data": {
      "text/plain": [
       "9"
      ]
     },
     "execution_count": 145,
     "metadata": {},
     "output_type": "execute_result"
    }
   ],
   "source": [
    "arr.max()  # array'in maks. elemanını bulmak için kullanılır."
   ]
  },
  {
   "cell_type": "code",
   "execution_count": 146,
   "id": "f6426dc4",
   "metadata": {},
   "outputs": [
    {
     "data": {
      "text/plain": [
       "8.25"
      ]
     },
     "execution_count": 146,
     "metadata": {},
     "output_type": "execute_result"
    }
   ],
   "source": [
    "arr.var()  # array'in varyansını bulmak için kullanılır."
   ]
  },
  {
   "cell_type": "code",
   "execution_count": null,
   "id": "86e153e3",
   "metadata": {},
   "outputs": [],
   "source": [
    "arr.std()  # array'in standart sapmasını (standart deviation) bulmak için kullanılır."
   ]
  },
  {
   "cell_type": "code",
   "execution_count": null,
   "id": "96b2d30a",
   "metadata": {},
   "outputs": [],
   "source": [
    "# Tek boyutlu arraylerde elemanların toplamını yukarıdaki gibi bulabiliriz.\n",
    "# Ancak İKİ BOYUTLU arrayler de toplamı bulmak için aşağıdaki yöntemi kullanmanız gerekir.\n"
   ]
  },
  {
   "cell_type": "code",
   "execution_count": 148,
   "id": "0d11435e",
   "metadata": {},
   "outputs": [
    {
     "data": {
      "text/plain": [
       "array([[ 0,  1,  2,  3,  4],\n",
       "       [ 5,  6,  7,  8,  9],\n",
       "       [10, 11, 12, 13, 14],\n",
       "       [15, 16, 17, 18, 19],\n",
       "       [20, 21, 22, 23, 24]])"
      ]
     },
     "execution_count": 148,
     "metadata": {},
     "output_type": "execute_result"
    }
   ],
   "source": [
    "np.arange(0,25).reshape(5,5)  # Önce 25 elemanlı bir array oluşturduk, sonra da reshape ile iki boyutlu şekle dönüştürdük."
   ]
  },
  {
   "cell_type": "code",
   "execution_count": 149,
   "id": "000a916a",
   "metadata": {},
   "outputs": [],
   "source": [
    "arr2d = np.arange(0,25).reshape(5,5)"
   ]
  },
  {
   "cell_type": "code",
   "execution_count": 151,
   "id": "ce50cd50",
   "metadata": {},
   "outputs": [
    {
     "data": {
      "text/plain": [
       "(5, 5)"
      ]
     },
     "execution_count": 151,
     "metadata": {},
     "output_type": "execute_result"
    }
   ],
   "source": [
    "arr2d.shape"
   ]
  },
  {
   "cell_type": "code",
   "execution_count": 152,
   "id": "32b75eed",
   "metadata": {},
   "outputs": [
    {
     "data": {
      "text/plain": [
       "array([[ 0,  1,  2,  3,  4],\n",
       "       [ 5,  6,  7,  8,  9],\n",
       "       [10, 11, 12, 13, 14],\n",
       "       [15, 16, 17, 18, 19],\n",
       "       [20, 21, 22, 23, 24]])"
      ]
     },
     "execution_count": 152,
     "metadata": {},
     "output_type": "execute_result"
    }
   ],
   "source": [
    "arr2d"
   ]
  },
  {
   "cell_type": "code",
   "execution_count": 153,
   "id": "d437f67a",
   "metadata": {},
   "outputs": [
    {
     "data": {
      "text/plain": [
       "300"
      ]
     },
     "execution_count": 153,
     "metadata": {},
     "output_type": "execute_result"
    }
   ],
   "source": [
    "arr2d.sum()  # Bu şekilde arrayin tüm elemanlarının toplamını bulabilirim."
   ]
  },
  {
   "cell_type": "code",
   "execution_count": null,
   "id": "90ca8da1",
   "metadata": {},
   "outputs": [],
   "source": [
    "# Bütün kolonların ve bütün satırların toplamını bulmak istediğimde nasıl yapabilirim?"
   ]
  },
  {
   "cell_type": "code",
   "execution_count": 154,
   "id": "7c742337",
   "metadata": {},
   "outputs": [
    {
     "data": {
      "text/plain": [
       "array([50, 55, 60, 65, 70])"
      ]
     },
     "execution_count": 154,
     "metadata": {},
     "output_type": "execute_result"
    }
   ],
   "source": [
    "arr2d.sum(axis=0)  # axis=0 girildiğinde satırlar arasında toplama yaparak her bir kolonunun toplamlarını oluşturur."
   ]
  },
  {
   "cell_type": "code",
   "execution_count": 155,
   "id": "a0bd47e0",
   "metadata": {},
   "outputs": [
    {
     "data": {
      "text/plain": [
       "array([ 10,  35,  60,  85, 110])"
      ]
     },
     "execution_count": 155,
     "metadata": {},
     "output_type": "execute_result"
    }
   ],
   "source": [
    "arr2d.sum(axis=1)  # axis = 1 girildiğinde ise kolonlar arasında toplama yaparak her bir satırın toplamını oluşturur."
   ]
  },
  {
   "cell_type": "code",
   "execution_count": null,
   "id": "64ceb66d",
   "metadata": {},
   "outputs": [],
   "source": []
  },
  {
   "cell_type": "code",
   "execution_count": null,
   "id": "1f4136ad",
   "metadata": {},
   "outputs": [],
   "source": []
  }
 ],
 "metadata": {
  "kernelspec": {
   "display_name": "Python 3 (ipykernel)",
   "language": "python",
   "name": "python3"
  },
  "language_info": {
   "codemirror_mode": {
    "name": "ipython",
    "version": 3
   },
   "file_extension": ".py",
   "mimetype": "text/x-python",
   "name": "python",
   "nbconvert_exporter": "python",
   "pygments_lexer": "ipython3",
   "version": "3.9.7"
  }
 },
 "nbformat": 4,
 "nbformat_minor": 5
}
