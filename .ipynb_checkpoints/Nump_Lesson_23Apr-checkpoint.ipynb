{
 "cells": [
  {
   "cell_type": "markdown",
   "id": "d57c9fcf",
   "metadata": {},
   "source": [
    "EDA : Exploratory Data Analysis\n",
    "\n",
    "https://www.analyticsvidhya.com/blog/2021/05/exploratory-data-analysis-eda-a-step-by-step-guide/\n",
    "\n",
    "https://towardsdatascience.com/exploratory-data-analysis-8fc1cb20fd15\n",
    "\n",
    "\n",
    "Data Cleaning\n",
    "\n",
    "Data Exploration\n",
    "\n",
    "Feature Engineering\n",
    "\n",
    "\n",
    "\n",
    "Raw Data\n",
    "\n",
    "Cleaned up Data"
   ]
  },
  {
   "cell_type": "markdown",
   "id": "4463f959",
   "metadata": {},
   "source": [
    "Distinguish Attributes\n",
    "Univariate Analysis "
   ]
  },
  {
   "cell_type": "markdown",
   "id": "f76ba8a3",
   "metadata": {},
   "source": [
    "# Numpy nedir?"
   ]
  },
  {
   "cell_type": "markdown",
   "id": "f8838254",
   "metadata": {},
   "source": [
    "Numerical Python\n",
    "Sayısal işlemlerin oluşturulması için oluşturulmuş bir kütüphane\n",
    "\n",
    "çok boyutlu arraylerle işlem yapabilmeyi sağlar\n",
    "\n",
    "Hızlıdır (C kod ile yazıldığı için)\n",
    "\n",
    "Hafızada daha az yer kaplar\n",
    "\n",
    "https://www.educba.com/what-is-numpy/\n"
   ]
  },
  {
   "cell_type": "markdown",
   "id": "08c60dd3",
   "metadata": {},
   "source": [
    "ndarray\n",
    "\n",
    "fixed size\n",
    "\n",
    "mathematicl operations"
   ]
  },
  {
   "cell_type": "markdown",
   "id": "a8bffd02",
   "metadata": {},
   "source": [
    "Neden Hızlı?\n",
    "\n",
    "Vectorization and Broadcasting özellikleri\n",
    "\n",
    "element-wise işlem yapma özelliği\n",
    "\n",
    "Kullanımı ve okuması kolar\n",
    "\n",
    "bug çıkma olasılığı düşük\n",
    "\n"
   ]
  },
  {
   "cell_type": "code",
   "execution_count": null,
   "id": "4051f007",
   "metadata": {},
   "outputs": [],
   "source": []
  },
  {
   "cell_type": "code",
   "execution_count": null,
   "id": "c9f643ad",
   "metadata": {},
   "outputs": [],
   "source": []
  },
  {
   "cell_type": "code",
   "execution_count": null,
   "id": "29bbbf96",
   "metadata": {},
   "outputs": [],
   "source": []
  },
  {
   "cell_type": "code",
   "execution_count": null,
   "id": "f2b83a15",
   "metadata": {},
   "outputs": [],
   "source": []
  },
  {
   "cell_type": "code",
   "execution_count": null,
   "id": "62679aae",
   "metadata": {},
   "outputs": [],
   "source": []
  }
 ],
 "metadata": {
  "kernelspec": {
   "display_name": "Python 3 (ipykernel)",
   "language": "python",
   "name": "python3"
  },
  "language_info": {
   "codemirror_mode": {
    "name": "ipython",
    "version": 3
   },
   "file_extension": ".py",
   "mimetype": "text/x-python",
   "name": "python",
   "nbconvert_exporter": "python",
   "pygments_lexer": "ipython3",
   "version": "3.9.7"
  }
 },
 "nbformat": 4,
 "nbformat_minor": 5
}
