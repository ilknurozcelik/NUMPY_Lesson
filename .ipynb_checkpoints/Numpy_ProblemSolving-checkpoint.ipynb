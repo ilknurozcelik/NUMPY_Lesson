{
 "cells": [
  {
   "cell_type": "code",
   "execution_count": 1,
   "id": "6c82041a",
   "metadata": {},
   "outputs": [],
   "source": [
    "import numpy as np"
   ]
  },
  {
   "cell_type": "code",
   "execution_count": 3,
   "id": "39490c78",
   "metadata": {},
   "outputs": [
    {
     "data": {
      "text/plain": [
       "array([0., 0., 0., 0., 0., 0., 0., 0., 0., 0.])"
      ]
     },
     "execution_count": 3,
     "metadata": {},
     "output_type": "execute_result"
    }
   ],
   "source": [
    "np.zeros(10)"
   ]
  },
  {
   "cell_type": "code",
   "execution_count": 7,
   "id": "7e66dfda",
   "metadata": {},
   "outputs": [],
   "source": [
    "v= np.zeros((10, 10))"
   ]
  },
  {
   "cell_type": "code",
   "execution_count": 10,
   "id": "f6146931",
   "metadata": {},
   "outputs": [
    {
     "name": "stdout",
     "output_type": "stream",
     "text": [
      "100 8\n"
     ]
    }
   ],
   "source": [
    "print(v.size, v.itemsize)"
   ]
  },
  {
   "cell_type": "code",
   "execution_count": 11,
   "id": "0b0cc9ba",
   "metadata": {},
   "outputs": [
    {
     "name": "stdout",
     "output_type": "stream",
     "text": [
      "array size in bytes :  800\n"
     ]
    }
   ],
   "source": [
    "print(\"array size in bytes : \",v.size * v.itemsize)  # array'in toplam eleman büyüklüğünü byte olarak bulmak için"
   ]
  },
  {
   "cell_type": "code",
   "execution_count": 12,
   "id": "4d1c610e",
   "metadata": {},
   "outputs": [
    {
     "name": "stdout",
     "output_type": "stream",
     "text": [
      "(array([0, 1, 4], dtype=int64),)\n"
     ]
    }
   ],
   "source": [
    "nz = np.nonzero([1,2,0,0,4,0])  # değeri 0 olmayan arraylerin index numaralarını bulmak için\n",
    "print(nz)"
   ]
  },
  {
   "cell_type": "code",
   "execution_count": 15,
   "id": "2a9c2806",
   "metadata": {},
   "outputs": [
    {
     "data": {
      "text/plain": [
       "(array([0, 1, 4], dtype=int64),)"
      ]
     },
     "execution_count": 15,
     "metadata": {},
     "output_type": "execute_result"
    }
   ],
   "source": [
    "x = np.array([1,2,0,0,4,0])\n",
    "np.where(x != 0)  # where fonksiyonu ile de değeri 0 olmayan elemanların indexlerini bulabilriz."
   ]
  },
  {
   "cell_type": "code",
   "execution_count": 167,
   "id": "b5071591",
   "metadata": {},
   "outputs": [
    {
     "name": "stdout",
     "output_type": "stream",
     "text": [
      "[[1 2 5]\n",
      " [6 4 0]]\n"
     ]
    },
    {
     "data": {
      "text/plain": [
       "(array([0, 0, 0, 1, 1], dtype=int64), array([0, 1, 2, 0, 1], dtype=int64))"
      ]
     },
     "execution_count": 167,
     "metadata": {},
     "output_type": "execute_result"
    }
   ],
   "source": [
    "nz2 = np.array([[1,2,5],[6,4,0]])  # iki boyutlu arraylerde 0 olmayan elemanların indexlerini bulma\n",
    "print(nz2)\n",
    "np.nonzero(nz2)  # axis=0 ve axis=1 index değerlerini ayrı ayrı array object olarak döndürüyor."
   ]
  },
  {
   "cell_type": "code",
   "execution_count": 28,
   "id": "03ddca84",
   "metadata": {},
   "outputs": [
    {
     "name": "stdout",
     "output_type": "stream",
     "text": [
      "(1, 5, 3)\n"
     ]
    }
   ],
   "source": [
    "# Consider a (6,7,8) shape array, what is the index (x,y,z) of the 100th element?\n",
    "\n",
    "print(np.unravel_index(99,(6,7,8)))  # array'in 100. sıradaki elemanının 3 boyutlu indexini verir"
   ]
  },
  {
   "cell_type": "code",
   "execution_count": 26,
   "id": "f6060678",
   "metadata": {},
   "outputs": [
    {
     "name": "stdout",
     "output_type": "stream",
     "text": [
      "add(x1, x2, /, out=None, *, where=True, casting='same_kind', order='K', dtype=None, subok=True[, signature, extobj])\n",
      "\n",
      "Add arguments element-wise.\n",
      "\n",
      "Parameters\n",
      "----------\n",
      "x1, x2 : array_like\n",
      "    The arrays to be added.\n",
      "    If ``x1.shape != x2.shape``, they must be broadcastable to a common\n",
      "    shape (which becomes the shape of the output).\n",
      "out : ndarray, None, or tuple of ndarray and None, optional\n",
      "    A location into which the result is stored. If provided, it must have\n",
      "    a shape that the inputs broadcast to. If not provided or None,\n",
      "    a freshly-allocated array is returned. A tuple (possible only as a\n",
      "    keyword argument) must have length equal to the number of outputs.\n",
      "where : array_like, optional\n",
      "    This condition is broadcast over the input. At locations where the\n",
      "    condition is True, the `out` array will be set to the ufunc result.\n",
      "    Elsewhere, the `out` array will retain its original value.\n",
      "    Note that if an uninitialized `out` array is created via the default\n",
      "    ``out=None``, locations within it where the condition is False will\n",
      "    remain uninitialized.\n",
      "**kwargs\n",
      "    For other keyword-only arguments, see the\n",
      "    :ref:`ufunc docs <ufuncs.kwargs>`.\n",
      "\n",
      "Returns\n",
      "-------\n",
      "add : ndarray or scalar\n",
      "    The sum of `x1` and `x2`, element-wise.\n",
      "    This is a scalar if both `x1` and `x2` are scalars.\n",
      "\n",
      "Notes\n",
      "-----\n",
      "Equivalent to `x1` + `x2` in terms of array broadcasting.\n",
      "\n",
      "Examples\n",
      "--------\n",
      ">>> np.add(1.0, 4.0)\n",
      "5.0\n",
      ">>> x1 = np.arange(9.0).reshape((3, 3))\n",
      ">>> x2 = np.arange(3.0)\n",
      ">>> np.add(x1, x2)\n",
      "array([[  0.,   2.,   4.],\n",
      "       [  3.,   5.,   7.],\n",
      "       [  6.,   8.,  10.]])\n",
      "\n",
      "The ``+`` operator can be used as a shorthand for ``np.add`` on ndarrays.\n",
      "\n",
      ">>> x1 = np.arange(9.0).reshape((3, 3))\n",
      ">>> x2 = np.arange(3.0)\n",
      ">>> x1 + x2\n",
      "array([[ 0.,  2.,  4.],\n",
      "       [ 3.,  5.,  7.],\n",
      "       [ 6.,  8., 10.]])\n"
     ]
    }
   ],
   "source": [
    "# How to get the documentation of the numpy add function from the command line?\n",
    "\n",
    "np.info(np.add)"
   ]
  },
  {
   "cell_type": "code",
   "execution_count": 23,
   "id": "99ca6fe0",
   "metadata": {},
   "outputs": [
    {
     "name": "stdout",
     "output_type": "stream",
     "text": [
      "Help on ufunc:\n",
      "\n",
      "add = <ufunc 'add'>\n",
      "    add(x1, x2, /, out=None, *, where=True, casting='same_kind', order='K', dtype=None, subok=True[, signature, extobj])\n",
      "    \n",
      "    Add arguments element-wise.\n",
      "    \n",
      "    Parameters\n",
      "    ----------\n",
      "    x1, x2 : array_like\n",
      "        The arrays to be added.\n",
      "        If ``x1.shape != x2.shape``, they must be broadcastable to a common\n",
      "        shape (which becomes the shape of the output).\n",
      "    out : ndarray, None, or tuple of ndarray and None, optional\n",
      "        A location into which the result is stored. If provided, it must have\n",
      "        a shape that the inputs broadcast to. If not provided or None,\n",
      "        a freshly-allocated array is returned. A tuple (possible only as a\n",
      "        keyword argument) must have length equal to the number of outputs.\n",
      "    where : array_like, optional\n",
      "        This condition is broadcast over the input. At locations where the\n",
      "        condition is True, the `out` array will be set to the ufunc result.\n",
      "        Elsewhere, the `out` array will retain its original value.\n",
      "        Note that if an uninitialized `out` array is created via the default\n",
      "        ``out=None``, locations within it where the condition is False will\n",
      "        remain uninitialized.\n",
      "    **kwargs\n",
      "        For other keyword-only arguments, see the\n",
      "        :ref:`ufunc docs <ufuncs.kwargs>`.\n",
      "    \n",
      "    Returns\n",
      "    -------\n",
      "    add : ndarray or scalar\n",
      "        The sum of `x1` and `x2`, element-wise.\n",
      "        This is a scalar if both `x1` and `x2` are scalars.\n",
      "    \n",
      "    Notes\n",
      "    -----\n",
      "    Equivalent to `x1` + `x2` in terms of array broadcasting.\n",
      "    \n",
      "    Examples\n",
      "    --------\n",
      "    >>> np.add(1.0, 4.0)\n",
      "    5.0\n",
      "    >>> x1 = np.arange(9.0).reshape((3, 3))\n",
      "    >>> x2 = np.arange(3.0)\n",
      "    >>> np.add(x1, x2)\n",
      "    array([[  0.,   2.,   4.],\n",
      "           [  3.,   5.,   7.],\n",
      "           [  6.,   8.,  10.]])\n",
      "    \n",
      "    The ``+`` operator can be used as a shorthand for ``np.add`` on ndarrays.\n",
      "    \n",
      "    >>> x1 = np.arange(9.0).reshape((3, 3))\n",
      "    >>> x2 = np.arange(3.0)\n",
      "    >>> x1 + x2\n",
      "    array([[ 0.,  2.,  4.],\n",
      "           [ 3.,  5.,  7.],\n",
      "           [ 6.,  8., 10.]])\n",
      "\n"
     ]
    }
   ],
   "source": [
    "help(np.add)"
   ]
  },
  {
   "cell_type": "code",
   "execution_count": 30,
   "id": "7ca35717",
   "metadata": {},
   "outputs": [
    {
     "name": "stdout",
     "output_type": "stream",
     "text": [
      "[0. 0. 0. 0. 1. 0. 0. 0. 0. 0.]\n"
     ]
    }
   ],
   "source": [
    "# Create a null vector of size 10 but the fifth value which is 1\n",
    "\n",
    "z = np.zeros(10)\n",
    "z[4] = 1\n",
    "print(z)"
   ]
  },
  {
   "cell_type": "code",
   "execution_count": 35,
   "id": "bdd8785f",
   "metadata": {},
   "outputs": [
    {
     "data": {
      "text/plain": [
       "array([[0, 0, 0, 0, 0],\n",
       "       [1, 0, 0, 0, 0],\n",
       "       [0, 2, 0, 0, 0],\n",
       "       [0, 0, 3, 0, 0],\n",
       "       [0, 0, 0, 4, 0]])"
      ]
     },
     "execution_count": 35,
     "metadata": {},
     "output_type": "execute_result"
    }
   ],
   "source": [
    "# Create a 5x5 matrix with values 1,2,3,4 just below the diagonal\n",
    "y = 1 + np.arange(4)  # array([1, 2, 3, 4]) oluşturmak için veya np.range(1,5) ile de yapılabilir.\n",
    "z = np.diag(y, k=-1)  # k diagonal numarası: 0 ise tam ortası +1 ise bir üstü, -1 ise bir altı\n",
    "z  # matris içine yerleştirilen arrayin boyutuna göre yeni matrisin boyutunu değiştiriyor."
   ]
  },
  {
   "cell_type": "code",
   "execution_count": 169,
   "id": "51b0381b",
   "metadata": {},
   "outputs": [
    {
     "data": {
      "text/plain": [
       "array([[0, 0, 0, 0, 0],\n",
       "       [1, 0, 0, 0, 0],\n",
       "       [0, 2, 0, 0, 0],\n",
       "       [0, 0, 3, 0, 0],\n",
       "       [0, 0, 0, 4, 0]])"
      ]
     },
     "execution_count": 169,
     "metadata": {},
     "output_type": "execute_result"
    }
   ],
   "source": [
    "y = np.arange(1,5)\n",
    "z = np.diag(y, k=-1)   # k is diagonal index, default value is 0.\n",
    "z"
   ]
  },
  {
   "cell_type": "code",
   "execution_count": 170,
   "id": "b764d770",
   "metadata": {},
   "outputs": [
    {
     "data": {
      "text/plain": [
       "array([10, 11, 12, 13, 14, 15, 16, 17, 18, 19, 20, 21, 22, 23, 24, 25, 26,\n",
       "       27, 28, 29, 30, 31, 32, 33, 34, 35, 36, 37, 38, 39, 40, 41, 42, 43,\n",
       "       44, 45, 46, 47, 48, 49])"
      ]
     },
     "execution_count": 170,
     "metadata": {},
     "output_type": "execute_result"
    }
   ],
   "source": [
    "# Create a vector with values ranging from 10 to 49\n",
    "\n",
    "arr = np.arange(10, 50)\n",
    "arr"
   ]
  },
  {
   "cell_type": "code",
   "execution_count": 38,
   "id": "c4d0c65a",
   "metadata": {},
   "outputs": [
    {
     "data": {
      "text/plain": [
       "array([49, 48, 47, 46, 45, 44, 43, 42, 41, 40, 39, 38, 37, 36, 35, 34, 33,\n",
       "       32, 31, 30, 29, 28, 27, 26, 25, 24, 23, 22, 21, 20, 19, 18, 17, 16,\n",
       "       15, 14, 13, 12, 11, 10])"
      ]
     },
     "execution_count": 38,
     "metadata": {},
     "output_type": "execute_result"
    }
   ],
   "source": [
    "# Create a vector with values ranging from 10 to 49\n",
    "\n",
    "arr6 = arr[::-1]"
   ]
  },
  {
   "cell_type": "code",
   "execution_count": 173,
   "id": "a6c336ae",
   "metadata": {},
   "outputs": [
    {
     "data": {
      "text/plain": [
       "array([11, 12, 13, 14, 15, 16, 17, 18, 19, 20, 21, 22, 23, 24, 25, 26, 27,\n",
       "       28, 29, 30, 31, 32, 33, 34, 35, 36, 37, 38, 39, 40, 41, 42, 43, 44,\n",
       "       45, 46, 47, 48, 10])"
      ]
     },
     "execution_count": 173,
     "metadata": {},
     "output_type": "execute_result"
    }
   ],
   "source": [
    "np.concatenate((arr[1:-1], arr[0:1]))"
   ]
  },
  {
   "cell_type": "code",
   "execution_count": 174,
   "id": "2b5a800a",
   "metadata": {},
   "outputs": [
    {
     "ename": "TypeError",
     "evalue": "only integer scalar arrays can be converted to a scalar index",
     "output_type": "error",
     "traceback": [
      "\u001b[1;31m---------------------------------------------------------------------------\u001b[0m",
      "\u001b[1;31mTypeError\u001b[0m                                 Traceback (most recent call last)",
      "\u001b[1;32m~\\AppData\\Local\\Temp/ipykernel_14432/1045832308.py\u001b[0m in \u001b[0;36m<module>\u001b[1;34m\u001b[0m\n\u001b[1;32m----> 1\u001b[1;33m \u001b[0mnp\u001b[0m\u001b[1;33m.\u001b[0m\u001b[0mconcatenate\u001b[0m\u001b[1;33m(\u001b[0m\u001b[0marr\u001b[0m\u001b[1;33m[\u001b[0m\u001b[1;33m:\u001b[0m\u001b[1;33m:\u001b[0m\u001b[1;33m-\u001b[0m\u001b[1;36m1\u001b[0m\u001b[1;33m]\u001b[0m\u001b[1;33m[\u001b[0m\u001b[1;36m0\u001b[0m\u001b[1;33m:\u001b[0m\u001b[1;36m1\u001b[0m\u001b[1;33m]\u001b[0m\u001b[1;33m,\u001b[0m \u001b[0mnp\u001b[0m\u001b[1;33m.\u001b[0m\u001b[0mconcatenate\u001b[0m\u001b[1;33m(\u001b[0m\u001b[1;33m(\u001b[0m\u001b[0marr\u001b[0m\u001b[1;33m[\u001b[0m\u001b[1;36m1\u001b[0m\u001b[1;33m:\u001b[0m\u001b[1;33m-\u001b[0m\u001b[1;36m1\u001b[0m\u001b[1;33m]\u001b[0m\u001b[1;33m,\u001b[0m \u001b[0marr\u001b[0m\u001b[1;33m[\u001b[0m\u001b[1;36m0\u001b[0m\u001b[1;33m:\u001b[0m\u001b[1;36m1\u001b[0m\u001b[1;33m]\u001b[0m\u001b[1;33m)\u001b[0m\u001b[1;33m)\u001b[0m\u001b[1;33m)\u001b[0m\u001b[1;33m\u001b[0m\u001b[1;33m\u001b[0m\u001b[0m\n\u001b[0m",
      "\u001b[1;32m<__array_function__ internals>\u001b[0m in \u001b[0;36mconcatenate\u001b[1;34m(*args, **kwargs)\u001b[0m\n",
      "\u001b[1;31mTypeError\u001b[0m: only integer scalar arrays can be converted to a scalar index"
     ]
    }
   ],
   "source": [
    "np.concatenate(arr[::-1][0:1], np.concatenate((arr[1:-1], arr[0:1])))"
   ]
  },
  {
   "cell_type": "code",
   "execution_count": 54,
   "id": "189966ef",
   "metadata": {},
   "outputs": [
    {
     "data": {
      "text/plain": [
       "array([[0, 1, 0, 1, 0, 1, 0, 1],\n",
       "       [1, 0, 1, 0, 1, 0, 1, 0],\n",
       "       [0, 1, 0, 1, 0, 1, 0, 1],\n",
       "       [1, 0, 1, 0, 1, 0, 1, 0],\n",
       "       [0, 1, 0, 1, 0, 1, 0, 1],\n",
       "       [1, 0, 1, 0, 1, 0, 1, 0],\n",
       "       [0, 1, 0, 1, 0, 1, 0, 1],\n",
       "       [1, 0, 1, 0, 1, 0, 1, 0]])"
      ]
     },
     "execution_count": 54,
     "metadata": {},
     "output_type": "execute_result"
    }
   ],
   "source": [
    "# Create a 8x8 matrix and fill it with a checkerboard pattern\n",
    "\n",
    "arr2 = np.zeros((8,8), dtype=int)\n",
    "arr2[::2,1::2] = 1\n",
    "arr2[1::2,::2] = 1\n",
    "arr2"
   ]
  },
  {
   "cell_type": "code",
   "execution_count": 55,
   "id": "6e1ae633",
   "metadata": {},
   "outputs": [
    {
     "data": {
      "text/plain": [
       "array([[1., 0., 0.],\n",
       "       [0., 1., 0.],\n",
       "       [0., 0., 1.]])"
      ]
     },
     "execution_count": 55,
     "metadata": {},
     "output_type": "execute_result"
    }
   ],
   "source": [
    "# Create a 3x3 identity matrix \n",
    "\n",
    "np.eye(3)"
   ]
  },
  {
   "cell_type": "code",
   "execution_count": 56,
   "id": "921a92ad",
   "metadata": {},
   "outputs": [
    {
     "data": {
      "text/plain": [
       "array([[1., 0., 0., 0.],\n",
       "       [0., 1., 0., 0.],\n",
       "       [0., 0., 1., 0.]])"
      ]
     },
     "execution_count": 56,
     "metadata": {},
     "output_type": "execute_result"
    }
   ],
   "source": [
    "\n",
    "np.eye(3,4)"
   ]
  },
  {
   "cell_type": "code",
   "execution_count": 57,
   "id": "5b219c91",
   "metadata": {},
   "outputs": [
    {
     "data": {
      "text/plain": [
       "array([[1., 0., 0., 0., 0., 0., 0., 0.],\n",
       "       [0., 1., 0., 0., 0., 0., 0., 0.],\n",
       "       [0., 0., 1., 0., 0., 0., 0., 0.],\n",
       "       [0., 0., 0., 1., 0., 0., 0., 0.],\n",
       "       [0., 0., 0., 0., 1., 0., 0., 0.],\n",
       "       [0., 0., 0., 0., 0., 1., 0., 0.],\n",
       "       [0., 0., 0., 0., 0., 0., 1., 0.],\n",
       "       [0., 0., 0., 0., 0., 0., 0., 1.]])"
      ]
     },
     "execution_count": 57,
     "metadata": {},
     "output_type": "execute_result"
    }
   ],
   "source": [
    "np.identity(8)"
   ]
  },
  {
   "cell_type": "code",
   "execution_count": 58,
   "id": "f7ac7413",
   "metadata": {},
   "outputs": [
    {
     "ename": "TypeError",
     "evalue": "Cannot interpret '7' as a data type",
     "output_type": "error",
     "traceback": [
      "\u001b[1;31m---------------------------------------------------------------------------\u001b[0m",
      "\u001b[1;31mTypeError\u001b[0m                                 Traceback (most recent call last)",
      "\u001b[1;32m~\\AppData\\Local\\Temp/ipykernel_14432/550319392.py\u001b[0m in \u001b[0;36m<module>\u001b[1;34m\u001b[0m\n\u001b[1;32m----> 1\u001b[1;33m \u001b[0mnp\u001b[0m\u001b[1;33m.\u001b[0m\u001b[0midentity\u001b[0m\u001b[1;33m(\u001b[0m\u001b[1;36m8\u001b[0m\u001b[1;33m,\u001b[0m\u001b[1;36m7\u001b[0m\u001b[1;33m)\u001b[0m\u001b[1;33m\u001b[0m\u001b[1;33m\u001b[0m\u001b[0m\n\u001b[0m",
      "\u001b[1;32m~\\anaconda3\\lib\\site-packages\\numpy\\core\\numeric.py\u001b[0m in \u001b[0;36midentity\u001b[1;34m(n, dtype, like)\u001b[0m\n\u001b[0;32m   2172\u001b[0m \u001b[1;33m\u001b[0m\u001b[0m\n\u001b[0;32m   2173\u001b[0m     \u001b[1;32mfrom\u001b[0m \u001b[0mnumpy\u001b[0m \u001b[1;32mimport\u001b[0m \u001b[0meye\u001b[0m\u001b[1;33m\u001b[0m\u001b[1;33m\u001b[0m\u001b[0m\n\u001b[1;32m-> 2174\u001b[1;33m     \u001b[1;32mreturn\u001b[0m \u001b[0meye\u001b[0m\u001b[1;33m(\u001b[0m\u001b[0mn\u001b[0m\u001b[1;33m,\u001b[0m \u001b[0mdtype\u001b[0m\u001b[1;33m=\u001b[0m\u001b[0mdtype\u001b[0m\u001b[1;33m,\u001b[0m \u001b[0mlike\u001b[0m\u001b[1;33m=\u001b[0m\u001b[0mlike\u001b[0m\u001b[1;33m)\u001b[0m\u001b[1;33m\u001b[0m\u001b[1;33m\u001b[0m\u001b[0m\n\u001b[0m\u001b[0;32m   2175\u001b[0m \u001b[1;33m\u001b[0m\u001b[0m\n\u001b[0;32m   2176\u001b[0m \u001b[1;33m\u001b[0m\u001b[0m\n",
      "\u001b[1;32m~\\anaconda3\\lib\\site-packages\\numpy\\lib\\twodim_base.py\u001b[0m in \u001b[0;36meye\u001b[1;34m(N, M, k, dtype, order, like)\u001b[0m\n\u001b[0;32m    207\u001b[0m     \u001b[1;32mif\u001b[0m \u001b[0mM\u001b[0m \u001b[1;32mis\u001b[0m \u001b[1;32mNone\u001b[0m\u001b[1;33m:\u001b[0m\u001b[1;33m\u001b[0m\u001b[1;33m\u001b[0m\u001b[0m\n\u001b[0;32m    208\u001b[0m         \u001b[0mM\u001b[0m \u001b[1;33m=\u001b[0m \u001b[0mN\u001b[0m\u001b[1;33m\u001b[0m\u001b[1;33m\u001b[0m\u001b[0m\n\u001b[1;32m--> 209\u001b[1;33m     \u001b[0mm\u001b[0m \u001b[1;33m=\u001b[0m \u001b[0mzeros\u001b[0m\u001b[1;33m(\u001b[0m\u001b[1;33m(\u001b[0m\u001b[0mN\u001b[0m\u001b[1;33m,\u001b[0m \u001b[0mM\u001b[0m\u001b[1;33m)\u001b[0m\u001b[1;33m,\u001b[0m \u001b[0mdtype\u001b[0m\u001b[1;33m=\u001b[0m\u001b[0mdtype\u001b[0m\u001b[1;33m,\u001b[0m \u001b[0morder\u001b[0m\u001b[1;33m=\u001b[0m\u001b[0morder\u001b[0m\u001b[1;33m)\u001b[0m\u001b[1;33m\u001b[0m\u001b[1;33m\u001b[0m\u001b[0m\n\u001b[0m\u001b[0;32m    210\u001b[0m     \u001b[1;32mif\u001b[0m \u001b[0mk\u001b[0m \u001b[1;33m>=\u001b[0m \u001b[0mM\u001b[0m\u001b[1;33m:\u001b[0m\u001b[1;33m\u001b[0m\u001b[1;33m\u001b[0m\u001b[0m\n\u001b[0;32m    211\u001b[0m         \u001b[1;32mreturn\u001b[0m \u001b[0mm\u001b[0m\u001b[1;33m\u001b[0m\u001b[1;33m\u001b[0m\u001b[0m\n",
      "\u001b[1;31mTypeError\u001b[0m: Cannot interpret '7' as a data type"
     ]
    }
   ],
   "source": [
    "np.identity(8,7)  # identity fonksiyonuna ikinci bir boyut girilemez. Hata verir."
   ]
  },
  {
   "cell_type": "code",
   "execution_count": 59,
   "id": "2764e6c8",
   "metadata": {},
   "outputs": [
    {
     "data": {
      "text/plain": [
       "array([[[0.49232912, 0.57966224, 0.23296543],\n",
       "        [0.45342591, 0.1576387 , 0.51464565],\n",
       "        [0.75268111, 0.94133822, 0.95067389]],\n",
       "\n",
       "       [[0.52897566, 0.78241066, 0.87699811],\n",
       "        [0.63411337, 0.71649349, 0.73109641],\n",
       "        [0.58038759, 0.33858449, 0.06463024]],\n",
       "\n",
       "       [[0.34168663, 0.76203866, 0.16917316],\n",
       "        [0.69434016, 0.88426378, 0.047847  ],\n",
       "        [0.05163455, 0.40487612, 0.62640066]]])"
      ]
     },
     "execution_count": 59,
     "metadata": {},
     "output_type": "execute_result"
    }
   ],
   "source": [
    "# Create a 3x3x3 array with random values\n",
    "\n",
    "np.random.rand(3,3,3)"
   ]
  },
  {
   "cell_type": "code",
   "execution_count": 60,
   "id": "8f22ac83",
   "metadata": {},
   "outputs": [
    {
     "data": {
      "text/plain": [
       "array([[[0.51036195, 0.34304634, 0.46708581],\n",
       "        [0.12726525, 0.23197687, 0.51115308],\n",
       "        [0.2273209 , 0.33340195, 0.99292734]],\n",
       "\n",
       "       [[0.55491528, 0.59821133, 0.78860015],\n",
       "        [0.38809597, 0.49753455, 0.24558872],\n",
       "        [0.36567927, 0.24478119, 0.41007658]],\n",
       "\n",
       "       [[0.45210681, 0.30741451, 0.83719329],\n",
       "        [0.52430864, 0.22296901, 0.96417652],\n",
       "        [0.01988042, 0.76408627, 0.4209783 ]]])"
      ]
     },
     "execution_count": 60,
     "metadata": {},
     "output_type": "execute_result"
    }
   ],
   "source": [
    "np.random.random((3,3,3))"
   ]
  },
  {
   "cell_type": "code",
   "execution_count": 65,
   "id": "3ba5aab9",
   "metadata": {},
   "outputs": [
    {
     "name": "stdout",
     "output_type": "stream",
     "text": [
      "[[0 1 0 1 0 1 0 1]\n",
      " [1 0 1 0 1 0 1 0]\n",
      " [0 1 0 1 0 1 0 1]\n",
      " [1 0 1 0 1 0 1 0]\n",
      " [0 1 0 1 0 1 0 1]\n",
      " [1 0 1 0 1 0 1 0]\n",
      " [0 1 0 1 0 1 0 1]\n",
      " [1 0 1 0 1 0 1 0]]\n"
     ]
    }
   ],
   "source": [
    "# Create a checkerboard 8x8 matrix using the tile function\n",
    "\n",
    "np.array([[0,1],[1,0]])  # tekrar edilecek pattern\n",
    "\n",
    "Z = np.tile( np.array([[0,1],[1,0]]), (4,4))  # tile fonksiyonu içerisine pattern ile kaç kez tekrar edileceği girilmelidir.\n",
    "\n",
    "print(Z)"
   ]
  },
  {
   "cell_type": "code",
   "execution_count": 70,
   "id": "2b859535",
   "metadata": {},
   "outputs": [
    {
     "data": {
      "text/plain": [
       "5"
      ]
     },
     "execution_count": 70,
     "metadata": {},
     "output_type": "execute_result"
    }
   ],
   "source": [
    "# Create a 10x10 array with random values and find the minimum and maximum values\n",
    "\n",
    "arr3 = np.random.randint(5, 50, (10,10))\n",
    "\n",
    "arr3.min()\n",
    "np.argmin(arr3)"
   ]
  },
  {
   "cell_type": "code",
   "execution_count": 68,
   "id": "225dfd5b",
   "metadata": {},
   "outputs": [
    {
     "data": {
      "text/plain": [
       "49"
      ]
     },
     "execution_count": 68,
     "metadata": {},
     "output_type": "execute_result"
    }
   ],
   "source": [
    "arr3.max()"
   ]
  },
  {
   "cell_type": "code",
   "execution_count": 75,
   "id": "dacbe108",
   "metadata": {},
   "outputs": [
    {
     "data": {
      "text/plain": [
       "array([[47, 41,  7, 10,  9,  5, 12, 35, 42, 18],\n",
       "       [17, 14, 23, 18,  7, 30, 15, 35, 14, 35],\n",
       "       [12, 21,  5, 18, 37,  5, 45, 25,  7, 15],\n",
       "       [38, 16, 29, 37, 19, 28, 33, 42, 27, 37],\n",
       "       [32, 28, 37,  9, 28, 33, 49, 31, 28, 38],\n",
       "       [ 6, 33, 15, 19, 33, 23, 33, 11, 10, 41],\n",
       "       [13, 26,  6, 14, 26, 28, 31,  5,  5, 24],\n",
       "       [17, 19, 38,  6, 14, 34, 21, 20, 27, 23],\n",
       "       [27, 11, 40, 28, 47, 18, 25, 20, 33, 39],\n",
       "       [27, 32,  5, 19, 47, 16, 46, 44, 48, 32]])"
      ]
     },
     "execution_count": 75,
     "metadata": {},
     "output_type": "execute_result"
    }
   ],
   "source": [
    "arr3"
   ]
  },
  {
   "cell_type": "code",
   "execution_count": 76,
   "id": "08cf58b6",
   "metadata": {},
   "outputs": [
    {
     "data": {
      "text/plain": [
       "(0, 5)"
      ]
     },
     "execution_count": 76,
     "metadata": {},
     "output_type": "execute_result"
    }
   ],
   "source": [
    "np.unravel_index(np.argmin(arr3),(10,10))   # argmin değerinin position ını bulmak için"
   ]
  },
  {
   "cell_type": "code",
   "execution_count": 80,
   "id": "5cc5de87",
   "metadata": {},
   "outputs": [
    {
     "data": {
      "text/plain": [
       "(array([7, 8], dtype=int64), array([7, 7], dtype=int64))"
      ]
     },
     "execution_count": 80,
     "metadata": {},
     "output_type": "execute_result"
    }
   ],
   "source": [
    "np.where(arr3==20)"
   ]
  },
  {
   "cell_type": "code",
   "execution_count": 81,
   "id": "38c51dcf",
   "metadata": {},
   "outputs": [
    {
     "data": {
      "text/plain": [
       "(4, 9)"
      ]
     },
     "execution_count": 81,
     "metadata": {},
     "output_type": "execute_result"
    }
   ],
   "source": [
    "np.unravel_index(arr3.max(),(10,10))   # max. değerin positionını bulmak için"
   ]
  },
  {
   "cell_type": "code",
   "execution_count": 83,
   "id": "c224db81",
   "metadata": {},
   "outputs": [
    {
     "ename": "IndexError",
     "evalue": "index 1 is out of bounds for axis 0 with size 1",
     "output_type": "error",
     "traceback": [
      "\u001b[1;31m---------------------------------------------------------------------------\u001b[0m",
      "\u001b[1;31mIndexError\u001b[0m                                Traceback (most recent call last)",
      "\u001b[1;32m~\\AppData\\Local\\Temp/ipykernel_14432/900400847.py\u001b[0m in \u001b[0;36m<module>\u001b[1;34m\u001b[0m\n\u001b[1;32m----> 1\u001b[1;33m \u001b[0mnp\u001b[0m\u001b[1;33m.\u001b[0m\u001b[0munravel_index\u001b[0m\u001b[1;33m(\u001b[0m\u001b[0mnp\u001b[0m\u001b[1;33m.\u001b[0m\u001b[0mwhere\u001b[0m\u001b[1;33m(\u001b[0m\u001b[0marr\u001b[0m\u001b[1;33m.\u001b[0m\u001b[0mreshape\u001b[0m\u001b[1;33m(\u001b[0m\u001b[1;33m-\u001b[0m\u001b[1;36m1\u001b[0m\u001b[1;33m)\u001b[0m\u001b[1;33m==\u001b[0m\u001b[1;36m14\u001b[0m\u001b[1;33m)\u001b[0m\u001b[1;33m[\u001b[0m\u001b[1;36m0\u001b[0m\u001b[1;33m]\u001b[0m\u001b[1;33m[\u001b[0m\u001b[1;36m1\u001b[0m\u001b[1;33m]\u001b[0m\u001b[1;33m,\u001b[0m\u001b[1;33m(\u001b[0m\u001b[1;36m10\u001b[0m\u001b[1;33m,\u001b[0m\u001b[1;36m10\u001b[0m\u001b[1;33m)\u001b[0m\u001b[1;33m)\u001b[0m\u001b[1;33m\u001b[0m\u001b[1;33m\u001b[0m\u001b[0m\n\u001b[0m",
      "\u001b[1;31mIndexError\u001b[0m: index 1 is out of bounds for axis 0 with size 1"
     ]
    }
   ],
   "source": [
    "np.unravel_index(np.where(arr.reshape(-1)==14)[0][1],(10,10))"
   ]
  },
  {
   "cell_type": "code",
   "execution_count": 85,
   "id": "3d5a16b1",
   "metadata": {},
   "outputs": [
    {
     "data": {
      "text/plain": [
       "array([75, 32, 95, 98, 63, 54,  1, 24, 24, 99, 93, 60, 26, 75, 31, 84, 75,\n",
       "       56,  7,  2,  4, 31, 74, 42, 46, 65, 36, 47, 33, 93])"
      ]
     },
     "execution_count": 85,
     "metadata": {},
     "output_type": "execute_result"
    }
   ],
   "source": [
    "# Create a random vector of size 30 and find the mean value\n",
    "\n",
    "s = np.random.randint(1,100,30)\n",
    "s"
   ]
  },
  {
   "cell_type": "code",
   "execution_count": 86,
   "id": "7146391a",
   "metadata": {},
   "outputs": [
    {
     "data": {
      "text/plain": [
       "51.5"
      ]
     },
     "execution_count": 86,
     "metadata": {},
     "output_type": "execute_result"
    }
   ],
   "source": [
    "s.mean()"
   ]
  },
  {
   "cell_type": "code",
   "execution_count": 88,
   "id": "46e20b62",
   "metadata": {},
   "outputs": [
    {
     "data": {
      "text/plain": [
       "(array([[83, 56, 38, 86, 62],\n",
       "        [53, 99, 21, 85, 34],\n",
       "        [89, 17, 75,  7, 65],\n",
       "        [60, 41,  2, 13, 24],\n",
       "        [52, 31, 76, 50,  3]]),\n",
       " 48.88,\n",
       " 28.634692245596074)"
      ]
     },
     "execution_count": 88,
     "metadata": {},
     "output_type": "execute_result"
    }
   ],
   "source": [
    "# Normalize a 5x5 random matrix\n",
    "\n",
    "s = np.random.randint(1,100,(5,5))\n",
    "s, s.mean(), s.std()"
   ]
  },
  {
   "cell_type": "code",
   "execution_count": 89,
   "id": "a95022b1",
   "metadata": {},
   "outputs": [
    {
     "name": "stdout",
     "output_type": "stream",
     "text": [
      "[[ 1.19156161  0.24864943 -0.37995868  1.29632963  0.45818547]\n",
      " [ 0.14388141  1.75032438 -0.97364413  1.26140696 -0.51964938]\n",
      " [ 1.40109765 -1.11333482  0.91218022 -1.46256155  0.56295349]\n",
      " [ 0.38834013 -0.27519066 -1.63717492 -1.25302552 -0.86887611]\n",
      " [ 0.10895874 -0.6244174   0.9471029   0.03911339 -1.60225225]]\n"
     ]
    }
   ],
   "source": [
    "Z = (s - s.mean()) / (s.std())\n",
    "print(Z)"
   ]
  },
  {
   "cell_type": "code",
   "execution_count": 90,
   "id": "5572341f",
   "metadata": {},
   "outputs": [
    {
     "name": "stdout",
     "output_type": "stream",
     "text": [
      "[[1. 1. 1. 1. 1. 1. 1. 1. 1. 1.]\n",
      " [1. 0. 0. 0. 0. 0. 0. 0. 0. 1.]\n",
      " [1. 0. 0. 0. 0. 0. 0. 0. 0. 1.]\n",
      " [1. 0. 0. 0. 0. 0. 0. 0. 0. 1.]\n",
      " [1. 0. 0. 0. 0. 0. 0. 0. 0. 1.]\n",
      " [1. 0. 0. 0. 0. 0. 0. 0. 0. 1.]\n",
      " [1. 0. 0. 0. 0. 0. 0. 0. 0. 1.]\n",
      " [1. 0. 0. 0. 0. 0. 0. 0. 0. 1.]\n",
      " [1. 0. 0. 0. 0. 0. 0. 0. 0. 1.]\n",
      " [1. 1. 1. 1. 1. 1. 1. 1. 1. 1.]]\n"
     ]
    }
   ],
   "source": [
    "# Create a 2d array with 1 on the border and 0 inside\n",
    "\n",
    "Z = np.ones((10,10))\n",
    "Z[1:-1,1:-1] = 0\n",
    "print(Z)"
   ]
  },
  {
   "cell_type": "code",
   "execution_count": 92,
   "id": "5ffcdf6c",
   "metadata": {},
   "outputs": [
    {
     "name": "stdout",
     "output_type": "stream",
     "text": [
      "nan\n",
      "False\n",
      "False\n",
      "nan\n",
      "True\n",
      "False\n"
     ]
    },
    {
     "data": {
      "text/plain": [
       "nan"
      ]
     },
     "execution_count": 92,
     "metadata": {},
     "output_type": "execute_result"
    }
   ],
   "source": [
    "# What is the result of the following expression? \n",
    "\n",
    "print(0 * np.nan)\n",
    "print(np.nan == np.nan)  # nan float değer aldığı için nan == nan False verir.\n",
    "print(np.inf > np.nan)\n",
    "print(np.nan - np.nan)\n",
    "print(np.nan in set([np.nan]))\n",
    "print(0.3 == 3 * 0.1)\n",
    "np.nan"
   ]
  },
  {
   "cell_type": "code",
   "execution_count": 98,
   "id": "0da36e51",
   "metadata": {},
   "outputs": [
    {
     "data": {
      "text/plain": [
       "0.30000000000000004"
      ]
     },
     "execution_count": 98,
     "metadata": {},
     "output_type": "execute_result"
    }
   ],
   "source": [
    "(1/10)*3"
   ]
  },
  {
   "cell_type": "code",
   "execution_count": 97,
   "id": "4cf5f247",
   "metadata": {},
   "outputs": [
    {
     "data": {
      "text/plain": [
       "False"
      ]
     },
     "execution_count": 97,
     "metadata": {},
     "output_type": "execute_result"
    }
   ],
   "source": [
    "(1/10)*3  == 0.3"
   ]
  },
  {
   "cell_type": "code",
   "execution_count": null,
   "id": "c7426ab3",
   "metadata": {},
   "outputs": [],
   "source": [
    "# Given a 1D array, negate all elements which are between 3 and 8, in place.\n",
    "\n",
    "Z = np.arange(11)\n",
    "Z[(3 < Z) & (Z <= 8)] *= -1\n",
    "print(Z)"
   ]
  },
  {
   "cell_type": "code",
   "execution_count": 121,
   "id": "ff3e351c",
   "metadata": {},
   "outputs": [
    {
     "name": "stdout",
     "output_type": "stream",
     "text": [
      "9\n",
      "10\n"
     ]
    }
   ],
   "source": [
    "# What is the output of the following script?\n",
    "\n",
    "print(sum(range(5),-1))\n",
    "from numpy import *\n",
    "print(sum(range(5),-1))  # numpy import ettikten sonra sum fonksiyonu farklı şekilde çalışıyor.\n",
    "\n",
    "# İçine yazdığınız array like verinin belirtilen index üzerinden toplamını veriyor."
   ]
  },
  {
   "cell_type": "code",
   "execution_count": 94,
   "id": "41f05b80",
   "metadata": {},
   "outputs": [
    {
     "data": {
      "text/plain": [
       "0.30000000000000004"
      ]
     },
     "execution_count": 94,
     "metadata": {},
     "output_type": "execute_result"
    }
   ],
   "source": []
  },
  {
   "cell_type": "code",
   "execution_count": 100,
   "id": "21b66eee",
   "metadata": {},
   "outputs": [
    {
     "data": {
      "text/plain": [
       "array([[0, 1, 2],\n",
       "       [3, 4, 5],\n",
       "       [6, 7, 8]])"
      ]
     },
     "execution_count": 100,
     "metadata": {},
     "output_type": "execute_result"
    }
   ],
   "source": [
    "# Create a 3x3 matrix with values ranging from 0 to 8 \n",
    "\n",
    "np.arange(9).reshape(3,3)"
   ]
  },
  {
   "cell_type": "code",
   "execution_count": 101,
   "id": "a9ed6bd1",
   "metadata": {},
   "outputs": [
    {
     "data": {
      "text/plain": [
       "array([[3, 2, 6],\n",
       "       [1, 8, 8],\n",
       "       [0, 3, 7]])"
      ]
     },
     "execution_count": 101,
     "metadata": {},
     "output_type": "execute_result"
    }
   ],
   "source": [
    "np.random.randint(0,9,(3,3))"
   ]
  },
  {
   "cell_type": "code",
   "execution_count": 109,
   "id": "a6ea38b9",
   "metadata": {},
   "outputs": [
    {
     "data": {
      "text/plain": [
       "array([[0., 0., 0., 0., 0., 0., 0.],\n",
       "       [0., 1., 1., 1., 1., 1., 0.],\n",
       "       [0., 1., 1., 1., 1., 1., 0.],\n",
       "       [0., 1., 1., 9., 1., 1., 0.],\n",
       "       [0., 1., 1., 1., 1., 1., 0.],\n",
       "       [0., 1., 1., 1., 1., 1., 0.],\n",
       "       [0., 0., 0., 0., 0., 0., 0.]])"
      ]
     },
     "execution_count": 109,
     "metadata": {},
     "output_type": "execute_result"
    }
   ],
   "source": [
    "# How to add a border (filled with 0's) around an existing array?\n",
    "\n",
    "arr4 = np.zeros((7,7))\n",
    "arr4[1:-1, 1:-1] = 1\n",
    "arr4[3,3]=9\n",
    "arr4"
   ]
  },
  {
   "cell_type": "code",
   "execution_count": 120,
   "id": "01e7e1f9",
   "metadata": {},
   "outputs": [
    {
     "name": "stdout",
     "output_type": "stream",
     "text": [
      "[[5. 5. 5. 5. 5. 5. 5.]\n",
      " [5. 1. 1. 1. 1. 1. 5.]\n",
      " [5. 1. 1. 1. 1. 1. 5.]\n",
      " [5. 1. 1. 1. 1. 1. 5.]\n",
      " [5. 1. 1. 1. 1. 1. 5.]\n",
      " [5. 1. 1. 1. 1. 1. 5.]\n",
      " [5. 5. 5. 5. 5. 5. 5.]]\n"
     ]
    }
   ],
   "source": [
    "Z = np.ones((5,5))\n",
    "Z = np.pad(Z, pad_width=1, constant_values=5)\n",
    "print(Z)"
   ]
  },
  {
   "cell_type": "code",
   "execution_count": 127,
   "id": "84f99aa6",
   "metadata": {},
   "outputs": [
    {
     "name": "stdout",
     "output_type": "stream",
     "text": [
      "nan\n",
      "0\n",
      "[-2.14748365e+09]\n"
     ]
    },
    {
     "name": "stderr",
     "output_type": "stream",
     "text": [
      "C:\\Users\\user\\AppData\\Local\\Temp/ipykernel_14432/2610099716.py:3: RuntimeWarning: invalid value encountered in true_divide\n",
      "  print(np.array(0) / np.array(0))\n",
      "C:\\Users\\user\\AppData\\Local\\Temp/ipykernel_14432/2610099716.py:4: RuntimeWarning: divide by zero encountered in floor_divide\n",
      "  print(np.array(0) // np.array(0))\n"
     ]
    }
   ],
   "source": [
    "# What are the result of the following expressions?\n",
    "\n",
    "print(np.array(0) / np.array(0))\n",
    "print(np.array(0) // np.array(0))\n",
    "print(np.array([np.nan]).astype(int).astype(float))\n"
   ]
  },
  {
   "cell_type": "code",
   "execution_count": 122,
   "id": "4dc2e273",
   "metadata": {},
   "outputs": [
    {
     "data": {
      "text/plain": [
       "array(0)"
      ]
     },
     "execution_count": 122,
     "metadata": {},
     "output_type": "execute_result"
    }
   ],
   "source": [
    "np.array(0)"
   ]
  },
  {
   "cell_type": "code",
   "execution_count": null,
   "id": "a3ca5953",
   "metadata": {},
   "outputs": [],
   "source": [
    "type(np.array(0))"
   ]
  },
  {
   "cell_type": "code",
   "execution_count": 123,
   "id": "da2abd90",
   "metadata": {},
   "outputs": [
    {
     "data": {
      "text/plain": [
       "5"
      ]
     },
     "execution_count": 123,
     "metadata": {},
     "output_type": "execute_result"
    }
   ],
   "source": [
    "np.array(0) + np.array(5)"
   ]
  },
  {
   "cell_type": "code",
   "execution_count": 124,
   "id": "e221df8a",
   "metadata": {},
   "outputs": [
    {
     "data": {
      "text/plain": [
       "numpy.int32"
      ]
     },
     "execution_count": 124,
     "metadata": {},
     "output_type": "execute_result"
    }
   ],
   "source": [
    "type(np.array(0) + np.array(5))"
   ]
  },
  {
   "cell_type": "code",
   "execution_count": null,
   "id": "3f11aa54",
   "metadata": {},
   "outputs": [],
   "source": [
    "type(np.array(0))"
   ]
  },
  {
   "cell_type": "code",
   "execution_count": 125,
   "id": "8e514bec",
   "metadata": {},
   "outputs": [
    {
     "name": "stdout",
     "output_type": "stream",
     "text": [
      "nan\n"
     ]
    },
    {
     "name": "stderr",
     "output_type": "stream",
     "text": [
      "C:\\Users\\user\\AppData\\Local\\Temp/ipykernel_14432/4120864939.py:1: RuntimeWarning: invalid value encountered in true_divide\n",
      "  print(np.array(0) / np.array(0))\n"
     ]
    }
   ],
   "source": [
    "print(np.array(0) / np.array(0))"
   ]
  },
  {
   "cell_type": "code",
   "execution_count": 126,
   "id": "af69376f",
   "metadata": {},
   "outputs": [
    {
     "name": "stdout",
     "output_type": "stream",
     "text": [
      "0\n"
     ]
    },
    {
     "name": "stderr",
     "output_type": "stream",
     "text": [
      "C:\\Users\\user\\AppData\\Local\\Temp/ipykernel_14432/4108562882.py:1: RuntimeWarning: divide by zero encountered in floor_divide\n",
      "  print(np.array(0) // np.array(0))\n"
     ]
    }
   ],
   "source": [
    "print(np.array(0) // np.array(0))"
   ]
  },
  {
   "cell_type": "code",
   "execution_count": 131,
   "id": "408e5c1c",
   "metadata": {},
   "outputs": [
    {
     "name": "stdout",
     "output_type": "stream",
     "text": [
      "[ 6.27287646 -1.02643961  4.56975221  2.05748616  4.18163898 -2.09729602\n",
      " -0.86436898  0.48549024 -0.19798461  4.62387734 -2.72767722  9.90149374\n",
      "  0.52421915 -2.55101562 -4.66620275]\n"
     ]
    }
   ],
   "source": [
    "# How to round away from zero a float array ?\n",
    "\n",
    "arr5 = np.random.uniform(-10,+10,15)\n",
    "print(arr5)"
   ]
  },
  {
   "cell_type": "code",
   "execution_count": 132,
   "id": "5efd95ee",
   "metadata": {},
   "outputs": [
    {
     "data": {
      "text/plain": [
       "array([6.27287646, 1.02643961, 4.56975221, 2.05748616, 4.18163898,\n",
       "       2.09729602, 0.86436898, 0.48549024, 0.19798461, 4.62387734,\n",
       "       2.72767722, 9.90149374, 0.52421915, 2.55101562, 4.66620275])"
      ]
     },
     "execution_count": 132,
     "metadata": {},
     "output_type": "execute_result"
    }
   ],
   "source": [
    "np.abs(arr5)"
   ]
  },
  {
   "cell_type": "code",
   "execution_count": 138,
   "id": "108e5ee0",
   "metadata": {},
   "outputs": [
    {
     "data": {
      "text/plain": [
       "array([ 7.,  2.,  5.,  3.,  5.,  3.,  1.,  1.,  1.,  5.,  3., 10.,  1.,\n",
       "        3.,  5.])"
      ]
     },
     "execution_count": 138,
     "metadata": {},
     "output_type": "execute_result"
    }
   ],
   "source": [
    "np.ceil(np.abs(arr5))"
   ]
  },
  {
   "cell_type": "code",
   "execution_count": 139,
   "id": "4d7d10c2",
   "metadata": {},
   "outputs": [
    {
     "name": "stdout",
     "output_type": "stream",
     "text": [
      "[ 7. -2.  5.  3.  5. -3. -1.  1. -1.  5. -3. 10.  1. -3. -5.]\n"
     ]
    }
   ],
   "source": [
    "print (np.copysign(np.ceil(np.abs(arr5)), arr5))"
   ]
  },
  {
   "cell_type": "code",
   "execution_count": null,
   "id": "9ad92637",
   "metadata": {},
   "outputs": [],
   "source": []
  },
  {
   "cell_type": "code",
   "execution_count": null,
   "id": "9bd1c03a",
   "metadata": {},
   "outputs": [],
   "source": [
    "# Consider an integer vector Z, which of these expressions are legal?\n",
    "\n",
    "Z**Z\n",
    "2 << Z >> 2\n",
    "Z <- Z\n",
    "1j*Z\n",
    "Z/1/1\n",
    "Z<Z>Z"
   ]
  },
  {
   "cell_type": "code",
   "execution_count": 133,
   "id": "b69c7b53",
   "metadata": {},
   "outputs": [
    {
     "data": {
      "text/plain": [
       "array([0, 1, 2, 3, 4, 5, 6, 7, 8, 9])"
      ]
     },
     "execution_count": 133,
     "metadata": {},
     "output_type": "execute_result"
    }
   ],
   "source": [
    "Z = np.arange(10)\n",
    "Z"
   ]
  },
  {
   "cell_type": "markdown",
   "id": "72a74c5b",
   "metadata": {},
   "source": [
    "## The operators << and >> are bit shift operators (left and right, respectively). In your particular example (with << ), you are performing x = x * 2^z for each array element, resulting in your modified output. The operator >> in the same example would yield an output characterized by x = x / 2^z for each array element."
   ]
  },
  {
   "cell_type": "code",
   "execution_count": 142,
   "id": "d52624bf",
   "metadata": {},
   "outputs": [
    {
     "data": {
      "text/plain": [
       "array([        1,         1,         4,        27,       256,      3125,\n",
       "           46656,    823543,  16777216, 387420489], dtype=int32)"
      ]
     },
     "execution_count": 142,
     "metadata": {},
     "output_type": "execute_result"
    }
   ],
   "source": [
    "Z**Z"
   ]
  },
  {
   "cell_type": "code",
   "execution_count": 143,
   "id": "11e028a7",
   "metadata": {},
   "outputs": [
    {
     "data": {
      "text/plain": [
       "array([   2,    4,    8,   16,   32,   64,  128,  256,  512, 1024],\n",
       "      dtype=int32)"
      ]
     },
     "execution_count": 143,
     "metadata": {},
     "output_type": "execute_result"
    }
   ],
   "source": [
    "2 << Z"
   ]
  },
  {
   "cell_type": "code",
   "execution_count": 144,
   "id": "99e971b5",
   "metadata": {},
   "outputs": [
    {
     "data": {
      "text/plain": [
       "array([0, 0, 0, 0, 1, 1, 1, 1, 2, 2], dtype=int32)"
      ]
     },
     "execution_count": 144,
     "metadata": {},
     "output_type": "execute_result"
    }
   ],
   "source": [
    "Z >> 2"
   ]
  },
  {
   "cell_type": "code",
   "execution_count": 146,
   "id": "04310832",
   "metadata": {},
   "outputs": [
    {
     "data": {
      "text/plain": [
       "array([False, False, False, False, False, False, False, False, False,\n",
       "       False])"
      ]
     },
     "execution_count": 146,
     "metadata": {},
     "output_type": "execute_result"
    }
   ],
   "source": [
    "Z <- Z  # Z < (-Z) ile aynı"
   ]
  },
  {
   "cell_type": "code",
   "execution_count": 147,
   "id": "1a9f798a",
   "metadata": {},
   "outputs": [
    {
     "data": {
      "text/plain": [
       "array([0.+0.j, 0.+1.j, 0.+2.j, 0.+3.j, 0.+4.j, 0.+5.j, 0.+6.j, 0.+7.j,\n",
       "       0.+8.j, 0.+9.j])"
      ]
     },
     "execution_count": 147,
     "metadata": {},
     "output_type": "execute_result"
    }
   ],
   "source": [
    "1j*Z  3 array değerlerini kompleks sayıya dönüştürdü."
   ]
  },
  {
   "cell_type": "code",
   "execution_count": 151,
   "id": "de6316d3",
   "metadata": {},
   "outputs": [
    {
     "data": {
      "text/plain": [
       "array([0., 1., 2., 3., 4., 5., 6., 7., 8., 9.])"
      ]
     },
     "execution_count": 151,
     "metadata": {},
     "output_type": "execute_result"
    }
   ],
   "source": [
    "Z/1/1"
   ]
  },
  {
   "cell_type": "code",
   "execution_count": 152,
   "id": "6a89201a",
   "metadata": {},
   "outputs": [
    {
     "data": {
      "text/plain": [
       "array([False, False, False, False, False, False, False, False, False,\n",
       "       False])"
      ]
     },
     "execution_count": 152,
     "metadata": {},
     "output_type": "execute_result"
    }
   ],
   "source": [
    "Z<Z"
   ]
  },
  {
   "cell_type": "code",
   "execution_count": 153,
   "id": "217d5ac8",
   "metadata": {},
   "outputs": [
    {
     "data": {
      "text/plain": [
       "array([False, False, False, False, False, False, False, False, False,\n",
       "       False])"
      ]
     },
     "execution_count": 153,
     "metadata": {},
     "output_type": "execute_result"
    }
   ],
   "source": [
    "Z>Z"
   ]
  },
  {
   "cell_type": "code",
   "execution_count": 154,
   "id": "397b8fc6",
   "metadata": {},
   "outputs": [
    {
     "ename": "ValueError",
     "evalue": "The truth value of an array with more than one element is ambiguous. Use a.any() or a.all()",
     "output_type": "error",
     "traceback": [
      "\u001b[1;31m---------------------------------------------------------------------------\u001b[0m",
      "\u001b[1;31mValueError\u001b[0m                                Traceback (most recent call last)",
      "\u001b[1;32m~\\AppData\\Local\\Temp/ipykernel_14432/225404581.py\u001b[0m in \u001b[0;36m<module>\u001b[1;34m\u001b[0m\n\u001b[1;32m----> 1\u001b[1;33m \u001b[0mZ\u001b[0m\u001b[1;33m<\u001b[0m\u001b[0mZ\u001b[0m\u001b[1;33m>\u001b[0m\u001b[0mZ\u001b[0m\u001b[1;33m\u001b[0m\u001b[1;33m\u001b[0m\u001b[0m\n\u001b[0m",
      "\u001b[1;31mValueError\u001b[0m: The truth value of an array with more than one element is ambiguous. Use a.any() or a.all()"
     ]
    }
   ],
   "source": [
    "Z<Z>Z"
   ]
  },
  {
   "cell_type": "code",
   "execution_count": 156,
   "id": "98cc6ccc",
   "metadata": {},
   "outputs": [
    {
     "name": "stdout",
     "output_type": "stream",
     "text": [
      "[8 7 7 9 8 6 2 9 8 7]\n",
      "[0 8 5 5 4 1 3 4 9 6]\n",
      "[6 8 9]\n"
     ]
    }
   ],
   "source": [
    "# How to find common values between two arrays? \n",
    "\n",
    "Z1 = np.random.randint(0,10,10)\n",
    "Z2 = np.random.randint(0,10,10)\n",
    "print(Z1)\n",
    "print(Z2)\n"
   ]
  },
  {
   "cell_type": "code",
   "execution_count": 160,
   "id": "fbea6172",
   "metadata": {},
   "outputs": [
    {
     "name": "stdout",
     "output_type": "stream",
     "text": [
      "(array([6, 8, 9]), array([5, 0, 3], dtype=int64), array([9, 1, 8], dtype=int64))\n"
     ]
    }
   ],
   "source": [
    "print(np.intersect1d(Z1,Z2, assume_unique=False ,return_indices=True))"
   ]
  },
  {
   "cell_type": "code",
   "execution_count": 163,
   "id": "d886a26b",
   "metadata": {},
   "outputs": [
    {
     "name": "stdout",
     "output_type": "stream",
     "text": [
      "(array([9]), array([3], dtype=int64), array([0], dtype=int64))\n"
     ]
    }
   ],
   "source": [
    "print(np.intersect1d(Z1,Z1.max(), assume_unique=False ,return_indices=True))"
   ]
  },
  {
   "cell_type": "code",
   "execution_count": null,
   "id": "01682cda",
   "metadata": {},
   "outputs": [],
   "source": []
  },
  {
   "cell_type": "code",
   "execution_count": 164,
   "id": "ed372285",
   "metadata": {},
   "outputs": [
    {
     "name": "stderr",
     "output_type": "stream",
     "text": [
      "C:\\Users\\user\\AppData\\Local\\Temp/ipykernel_14432/3327402174.py:3: FutureWarning: Passing (type, 1) or '1type' as a synonym of type is deprecated; in a future version of numpy, it will be understood as (type, (1,)) / '(1,)type'.\n",
      "  color = np.dtype([(\"r\", np.ubyte, 1),\n"
     ]
    }
   ],
   "source": [
    "#  Create a custom dtype that describes a color as four unsigned bytes (RGBA) \n",
    "\n",
    "color = np.dtype([(\"r\", np.ubyte, 1),\n",
    "                  (\"g\", np.ubyte, 1),\n",
    "                  (\"b\", np.ubyte, 1),\n",
    "                  (\"a\", np.ubyte, 1)])\n"
   ]
  },
  {
   "cell_type": "code",
   "execution_count": 179,
   "id": "a9cfcefc",
   "metadata": {},
   "outputs": [
    {
     "data": {
      "text/plain": [
       "array([[[16,  3],\n",
       "        [12,  5],\n",
       "        [ 5, 14],\n",
       "        [ 3, 15]],\n",
       "\n",
       "       [[15,  3],\n",
       "        [ 0, 11],\n",
       "        [ 7,  1],\n",
       "        [ 8, 15]],\n",
       "\n",
       "       [[13, 10],\n",
       "        [ 4,  4],\n",
       "        [ 8,  8],\n",
       "        [15,  1]],\n",
       "\n",
       "       [[13,  9],\n",
       "        [ 4,  3],\n",
       "        [ 4, 13],\n",
       "        [ 0, 16]]])"
      ]
     },
     "execution_count": 179,
     "metadata": {},
     "output_type": "execute_result"
    }
   ],
   "source": [
    "arr7= np.random.randint(0,17, (4,4,2))\n",
    "arr7"
   ]
  },
  {
   "cell_type": "code",
   "execution_count": 180,
   "id": "f5a929f9",
   "metadata": {},
   "outputs": [
    {
     "data": {
      "text/plain": [
       "3"
      ]
     },
     "execution_count": 180,
     "metadata": {},
     "output_type": "execute_result"
    }
   ],
   "source": [
    "arr7.ndim"
   ]
  },
  {
   "cell_type": "code",
   "execution_count": 181,
   "id": "ce039e2e",
   "metadata": {},
   "outputs": [
    {
     "data": {
      "text/plain": [
       "(4, 4, 2)"
      ]
     },
     "execution_count": 181,
     "metadata": {},
     "output_type": "execute_result"
    }
   ],
   "source": [
    "arr7.shape"
   ]
  },
  {
   "cell_type": "code",
   "execution_count": 182,
   "id": "0ef176be",
   "metadata": {},
   "outputs": [
    {
     "data": {
      "text/plain": [
       "32"
      ]
     },
     "execution_count": 182,
     "metadata": {},
     "output_type": "execute_result"
    }
   ],
   "source": [
    "arr7.size"
   ]
  },
  {
   "cell_type": "code",
   "execution_count": 183,
   "id": "a3e52082",
   "metadata": {},
   "outputs": [
    {
     "data": {
      "text/plain": [
       "dtype('int32')"
      ]
     },
     "execution_count": 183,
     "metadata": {},
     "output_type": "execute_result"
    }
   ],
   "source": [
    "arr7.dtype"
   ]
  },
  {
   "cell_type": "code",
   "execution_count": 184,
   "id": "6e1f0761",
   "metadata": {},
   "outputs": [
    {
     "data": {
      "text/plain": [
       "4"
      ]
     },
     "execution_count": 184,
     "metadata": {},
     "output_type": "execute_result"
    }
   ],
   "source": [
    "arr7.itemsize  # byte"
   ]
  },
  {
   "cell_type": "code",
   "execution_count": 185,
   "id": "b0b7afe0",
   "metadata": {},
   "outputs": [
    {
     "data": {
      "text/plain": [
       "4"
      ]
     },
     "execution_count": 185,
     "metadata": {},
     "output_type": "execute_result"
    }
   ],
   "source": [
    "arr7.dtype.itemsize"
   ]
  },
  {
   "cell_type": "code",
   "execution_count": 187,
   "id": "6c099940",
   "metadata": {},
   "outputs": [
    {
     "data": {
      "text/plain": [
       "array([1, 2, 3, 4, 5, 6])"
      ]
     },
     "execution_count": 187,
     "metadata": {},
     "output_type": "execute_result"
    }
   ],
   "source": [
    "x = np.array([1, 2, 3])\n",
    "y = np.array([4, 5, 6])\n",
    "\n",
    "np.concatenate([x,y])"
   ]
  },
  {
   "cell_type": "code",
   "execution_count": 188,
   "id": "c3df5e78",
   "metadata": {},
   "outputs": [
    {
     "data": {
      "text/plain": [
       "[array([1, 2, 3]), array([99, 99]), array([3, 2, 1])]"
      ]
     },
     "execution_count": 188,
     "metadata": {},
     "output_type": "execute_result"
    }
   ],
   "source": [
    "x = np.array([1, 2, 3, 99, 99, 3, 2, 1])\n",
    "\n",
    "np.split(x, [3,5])"
   ]
  },
  {
   "cell_type": "code",
   "execution_count": 190,
   "id": "796ac18a",
   "metadata": {},
   "outputs": [
    {
     "data": {
      "text/plain": [
       "[array([ 1,  2,  3, 99]), array([99,  3,  2,  1]), array([5, 8, 9, 4])]"
      ]
     },
     "execution_count": 190,
     "metadata": {},
     "output_type": "execute_result"
    }
   ],
   "source": [
    "x = np.array([1, 2, 3, 99, 99, 3, 2, 1, 5, 8, 9, 4])\n",
    "\n",
    "np.split(x, 3)"
   ]
  },
  {
   "cell_type": "code",
   "execution_count": 193,
   "id": "381aee43",
   "metadata": {},
   "outputs": [
    {
     "data": {
      "text/plain": [
       "[array([1, 2, 3]), array([99, 99,  3]), array([2, 1, 5]), array([8, 9, 4, 2])]"
      ]
     },
     "execution_count": 193,
     "metadata": {},
     "output_type": "execute_result"
    }
   ],
   "source": [
    "x = np.array([1, 2, 3, 99, 99, 3, 2, 1, 5, 8, 9, 4,2])\n",
    "\n",
    "np.split(x, [3, 6, 9])"
   ]
  },
  {
   "cell_type": "code",
   "execution_count": 198,
   "id": "b7a8bf66",
   "metadata": {},
   "outputs": [],
   "source": [
    "x = np.array([1, 2, 3, 99, 99, 3, 2, 1, 5, 8, 9, 4,2])\n",
    "\n",
    "xx = np.sort(x)"
   ]
  },
  {
   "cell_type": "code",
   "execution_count": 199,
   "id": "2f122d47",
   "metadata": {},
   "outputs": [
    {
     "data": {
      "text/plain": [
       "array([ 1,  1,  2,  2,  2,  3,  3,  4,  5,  8,  9, 99, 99])"
      ]
     },
     "execution_count": 199,
     "metadata": {},
     "output_type": "execute_result"
    }
   ],
   "source": [
    "xx"
   ]
  },
  {
   "cell_type": "code",
   "execution_count": 200,
   "id": "ef57f933",
   "metadata": {},
   "outputs": [
    {
     "data": {
      "text/plain": [
       "[1, 1, 2, 2, 2, 3, 3, 4, 5, 8, 9, 99, 99]"
      ]
     },
     "execution_count": 200,
     "metadata": {},
     "output_type": "execute_result"
    }
   ],
   "source": [
    "sorted(x)  # liste olarak geri döndürür."
   ]
  },
  {
   "cell_type": "code",
   "execution_count": 207,
   "id": "65f9e162",
   "metadata": {},
   "outputs": [
    {
     "name": "stdout",
     "output_type": "stream",
     "text": [
      "[[5 4 0]\n",
      " [4 6 6]\n",
      " [4 8 4]]\n",
      "[[2 8 7]\n",
      " [2 8 8]\n",
      " [5 4 2]]\n"
     ]
    }
   ],
   "source": [
    "np.random.seed(22)\n",
    "x = np.random.randint(0,9, (3,3))\n",
    "y = np.random.randint(0,9, (3,3))\n",
    "print(x)\n",
    "print(y)"
   ]
  },
  {
   "cell_type": "code",
   "execution_count": 205,
   "id": "c175670b",
   "metadata": {},
   "outputs": [
    {
     "data": {
      "text/plain": [
       "array([[ 7, 12,  7],\n",
       "       [ 6, 14, 14],\n",
       "       [ 9, 12,  6]])"
      ]
     },
     "execution_count": 205,
     "metadata": {},
     "output_type": "execute_result"
    }
   ],
   "source": [
    "x + y "
   ]
  },
  {
   "cell_type": "code",
   "execution_count": 208,
   "id": "cd49fa55",
   "metadata": {},
   "outputs": [
    {
     "data": {
      "text/plain": [
       "array([[10,  9,  5],\n",
       "       [ 9, 11, 11],\n",
       "       [ 9, 13,  9]])"
      ]
     },
     "execution_count": 208,
     "metadata": {},
     "output_type": "execute_result"
    }
   ],
   "source": [
    "x + 5"
   ]
  },
  {
   "cell_type": "code",
   "execution_count": 209,
   "id": "55a1a4f8",
   "metadata": {},
   "outputs": [
    {
     "data": {
      "text/plain": [
       "array([[ 3, -4, -7],\n",
       "       [ 2, -2, -2],\n",
       "       [-1,  4,  2]])"
      ]
     },
     "execution_count": 209,
     "metadata": {},
     "output_type": "execute_result"
    }
   ],
   "source": [
    "x - y"
   ]
  },
  {
   "cell_type": "code",
   "execution_count": 210,
   "id": "f09409a8",
   "metadata": {},
   "outputs": [
    {
     "data": {
      "text/plain": [
       "array([[-1,  5,  4],\n",
       "       [-1,  5,  5],\n",
       "       [ 2,  1, -1]])"
      ]
     },
     "execution_count": 210,
     "metadata": {},
     "output_type": "execute_result"
    }
   ],
   "source": [
    "y -3"
   ]
  },
  {
   "cell_type": "code",
   "execution_count": 211,
   "id": "0c688a3d",
   "metadata": {},
   "outputs": [
    {
     "data": {
      "text/plain": [
       "array([[2.5 , 0.5 , 0.  ],\n",
       "       [2.  , 0.75, 0.75],\n",
       "       [0.8 , 2.  , 2.  ]])"
      ]
     },
     "execution_count": 211,
     "metadata": {},
     "output_type": "execute_result"
    }
   ],
   "source": [
    "x/y"
   ]
  },
  {
   "cell_type": "code",
   "execution_count": 214,
   "id": "dc9df464",
   "metadata": {},
   "outputs": [
    {
     "data": {
      "text/plain": [
       "array([[2, 1, 0],\n",
       "       [1, 0, 0],\n",
       "       [1, 2, 1]], dtype=int32)"
      ]
     },
     "execution_count": 214,
     "metadata": {},
     "output_type": "execute_result"
    }
   ],
   "source": [
    "x % 3"
   ]
  },
  {
   "cell_type": "code",
   "execution_count": 215,
   "id": "c40e94c7",
   "metadata": {},
   "outputs": [
    {
     "data": {
      "text/plain": [
       "array([[10, 32,  0],\n",
       "       [ 8, 48, 48],\n",
       "       [20, 32,  8]])"
      ]
     },
     "execution_count": 215,
     "metadata": {},
     "output_type": "execute_result"
    }
   ],
   "source": [
    "x * y"
   ]
  },
  {
   "cell_type": "code",
   "execution_count": 216,
   "id": "c411aa5e",
   "metadata": {},
   "outputs": [
    {
     "data": {
      "text/plain": [
       "array([[30, 24,  0],\n",
       "       [24, 36, 36],\n",
       "       [24, 48, 24]])"
      ]
     },
     "execution_count": 216,
     "metadata": {},
     "output_type": "execute_result"
    }
   ],
   "source": [
    "x * 6"
   ]
  },
  {
   "cell_type": "code",
   "execution_count": 217,
   "id": "fc465967",
   "metadata": {},
   "outputs": [
    {
     "data": {
      "text/plain": [
       "array([[2.23606798, 2.        , 0.        ],\n",
       "       [2.        , 2.44948974, 2.44948974],\n",
       "       [2.        , 2.82842712, 2.        ]])"
      ]
     },
     "execution_count": 217,
     "metadata": {},
     "output_type": "execute_result"
    }
   ],
   "source": [
    "np.sqrt(x)"
   ]
  },
  {
   "cell_type": "code",
   "execution_count": 218,
   "id": "0c16d5fa",
   "metadata": {},
   "outputs": [
    {
     "data": {
      "text/plain": [
       "array([[1.41421356, 2.82842712, 2.64575131],\n",
       "       [1.41421356, 2.82842712, 2.82842712],\n",
       "       [2.23606798, 2.        , 1.41421356]])"
      ]
     },
     "execution_count": 218,
     "metadata": {},
     "output_type": "execute_result"
    }
   ],
   "source": [
    "np.sqrt(y)"
   ]
  },
  {
   "cell_type": "code",
   "execution_count": 219,
   "id": "8ba4db18",
   "metadata": {},
   "outputs": [
    {
     "data": {
      "text/plain": [
       "array([[1.48413159e+02, 5.45981500e+01, 1.00000000e+00],\n",
       "       [5.45981500e+01, 4.03428793e+02, 4.03428793e+02],\n",
       "       [5.45981500e+01, 2.98095799e+03, 5.45981500e+01]])"
      ]
     },
     "execution_count": 219,
     "metadata": {},
     "output_type": "execute_result"
    }
   ],
   "source": [
    "np.exp(x)"
   ]
  },
  {
   "cell_type": "code",
   "execution_count": 222,
   "id": "7e5f1e2b",
   "metadata": {},
   "outputs": [
    {
     "data": {
      "text/plain": [
       "(0, 2)"
      ]
     },
     "execution_count": 222,
     "metadata": {},
     "output_type": "execute_result"
    }
   ],
   "source": [
    "x.min() , y.min()"
   ]
  },
  {
   "cell_type": "code",
   "execution_count": 221,
   "id": "d6145ab1",
   "metadata": {},
   "outputs": [
    {
     "data": {
      "text/plain": [
       "(array([[5, 4, 0],\n",
       "        [4, 6, 6],\n",
       "        [4, 8, 4]]),\n",
       " array([[2, 8, 7],\n",
       "        [2, 8, 8],\n",
       "        [5, 4, 2]]))"
      ]
     },
     "execution_count": 221,
     "metadata": {},
     "output_type": "execute_result"
    }
   ],
   "source": [
    "x , y"
   ]
  },
  {
   "cell_type": "code",
   "execution_count": 224,
   "id": "9e7544d0",
   "metadata": {},
   "outputs": [
    {
     "data": {
      "text/plain": [
       "(8, 8)"
      ]
     },
     "execution_count": 224,
     "metadata": {},
     "output_type": "execute_result"
    }
   ],
   "source": [
    "x.max(), y.max()"
   ]
  },
  {
   "cell_type": "code",
   "execution_count": 226,
   "id": "f8180ed7",
   "metadata": {},
   "outputs": [
    {
     "data": {
      "text/plain": [
       "(array([5, 8, 6]), array([5, 6, 8]))"
      ]
     },
     "execution_count": 226,
     "metadata": {},
     "output_type": "execute_result"
    }
   ],
   "source": [
    "x.max(axis=0), x.max(axis=1)"
   ]
  },
  {
   "cell_type": "code",
   "execution_count": 228,
   "id": "7dda3262",
   "metadata": {},
   "outputs": [
    {
     "data": {
      "text/plain": [
       "(array([2, 4, 2]), array([2, 2, 2]))"
      ]
     },
     "execution_count": 228,
     "metadata": {},
     "output_type": "execute_result"
    }
   ],
   "source": [
    "y.min(axis=0), y.min(axis=1)"
   ]
  },
  {
   "cell_type": "code",
   "execution_count": 232,
   "id": "520617f9",
   "metadata": {},
   "outputs": [
    {
     "data": {
      "text/plain": [
       "(4.555555555555555,\n",
       " array([4.33333333, 6.        , 3.33333333]),\n",
       " array([3.        , 5.33333333, 5.33333333]))"
      ]
     },
     "execution_count": 232,
     "metadata": {},
     "output_type": "execute_result"
    }
   ],
   "source": [
    "x.mean(), x.mean(axis=0), x.mean(axis=1)"
   ]
  },
  {
   "cell_type": "code",
   "execution_count": 235,
   "id": "06eeaa3d",
   "metadata": {},
   "outputs": [
    {
     "data": {
      "text/plain": [
       "(5.0, array([2., 8., 7.]), array([7., 8., 4.]))"
      ]
     },
     "execution_count": 235,
     "metadata": {},
     "output_type": "execute_result"
    }
   ],
   "source": [
    "np.median(y), np.median(y, axis=0), np.median(y, axis=1) "
   ]
  },
  {
   "cell_type": "code",
   "execution_count": 238,
   "id": "084e4cc4",
   "metadata": {},
   "outputs": [
    {
     "data": {
      "text/plain": [
       "(2.0608041101101566,\n",
       " array([0.47140452, 1.63299316, 2.49443826]),\n",
       " array([2.1602469 , 0.94280904, 1.88561808]))"
      ]
     },
     "execution_count": 238,
     "metadata": {},
     "output_type": "execute_result"
    }
   ],
   "source": [
    "x.std(), x.std(axis=0), x.std(axis=1)"
   ]
  },
  {
   "cell_type": "code",
   "execution_count": 244,
   "id": "4865cfb5",
   "metadata": {},
   "outputs": [
    {
     "data": {
      "text/plain": [
       "(array([[5, 4, 0],\n",
       "        [4, 6, 6],\n",
       "        [4, 8, 4]]),\n",
       " array([[2, 8, 7],\n",
       "        [2, 8, 8],\n",
       "        [5, 4, 2]]))"
      ]
     },
     "execution_count": 244,
     "metadata": {},
     "output_type": "execute_result"
    }
   ],
   "source": [
    "x, y"
   ]
  },
  {
   "cell_type": "code",
   "execution_count": 243,
   "id": "0b27556c",
   "metadata": {},
   "outputs": [
    {
     "data": {
      "text/plain": [
       "array([[1, 4, 0],\n",
       "       [0, 6, 6],\n",
       "       [4, 0, 0]], dtype=int32)"
      ]
     },
     "execution_count": 243,
     "metadata": {},
     "output_type": "execute_result"
    }
   ],
   "source": [
    "np.mod(x, y)  # to find modulus(remainder) of each element of x array according to y array. "
   ]
  },
  {
   "cell_type": "code",
   "execution_count": 245,
   "id": "fb569472",
   "metadata": {},
   "outputs": [
    {
     "data": {
      "text/plain": [
       "array([[1, 4, 0],\n",
       "       [0, 6, 6],\n",
       "       [4, 0, 0]], dtype=int32)"
      ]
     },
     "execution_count": 245,
     "metadata": {},
     "output_type": "execute_result"
    }
   ],
   "source": [
    "np.remainder(x, y)  # to find modulus(remainder) of each element of x array according to y array. "
   ]
  },
  {
   "cell_type": "code",
   "execution_count": 246,
   "id": "eba2edd6",
   "metadata": {},
   "outputs": [
    {
     "data": {
      "text/plain": [
       "array([[-0.95892427, -0.7568025 ,  0.        ],\n",
       "       [-0.7568025 , -0.2794155 , -0.2794155 ],\n",
       "       [-0.7568025 ,  0.98935825, -0.7568025 ]])"
      ]
     },
     "execution_count": 246,
     "metadata": {},
     "output_type": "execute_result"
    }
   ],
   "source": [
    "np.sin(x)  # To find sinus of each elemnets of array"
   ]
  },
  {
   "cell_type": "code",
   "execution_count": null,
   "id": "c1fc6f57",
   "metadata": {},
   "outputs": [],
   "source": []
  }
 ],
 "metadata": {
  "kernelspec": {
   "display_name": "Python 3 (ipykernel)",
   "language": "python",
   "name": "python3"
  },
  "language_info": {
   "codemirror_mode": {
    "name": "ipython",
    "version": 3
   },
   "file_extension": ".py",
   "mimetype": "text/x-python",
   "name": "python",
   "nbconvert_exporter": "python",
   "pygments_lexer": "ipython3",
   "version": "3.9.7"
  }
 },
 "nbformat": 4,
 "nbformat_minor": 5
}
