{
 "cells": [
  {
   "cell_type": "markdown",
   "id": "fed37c5e",
   "metadata": {},
   "source": [
    "# Numpy Preclass"
   ]
  },
  {
   "cell_type": "code",
   "execution_count": 146,
   "id": "672332b3",
   "metadata": {},
   "outputs": [],
   "source": [
    "import numpy as np"
   ]
  },
  {
   "cell_type": "code",
   "execution_count": 2,
   "id": "9c6a37f6",
   "metadata": {},
   "outputs": [],
   "source": [
    "ls = [1, 5, 8, 6, 5]\n",
    "\n",
    "ls_arr= np.array(ls)"
   ]
  },
  {
   "cell_type": "code",
   "execution_count": 4,
   "id": "071bef7e",
   "metadata": {},
   "outputs": [
    {
     "data": {
      "text/plain": [
       "array([1, 5, 8, 6, 5])"
      ]
     },
     "execution_count": 4,
     "metadata": {},
     "output_type": "execute_result"
    }
   ],
   "source": [
    "ls_arr"
   ]
  },
  {
   "cell_type": "code",
   "execution_count": 5,
   "id": "4da59af9",
   "metadata": {},
   "outputs": [],
   "source": [
    "arr1 = np.arange(2, 12, 2)"
   ]
  },
  {
   "cell_type": "code",
   "execution_count": 6,
   "id": "8860760d",
   "metadata": {},
   "outputs": [
    {
     "data": {
      "text/plain": [
       "array([ 2,  4,  6,  8, 10])"
      ]
     },
     "execution_count": 6,
     "metadata": {},
     "output_type": "execute_result"
    }
   ],
   "source": [
    "arr1"
   ]
  },
  {
   "cell_type": "code",
   "execution_count": 9,
   "id": "b2a78793",
   "metadata": {},
   "outputs": [],
   "source": [
    "arr2= np.linspace(1, 25, 5)"
   ]
  },
  {
   "cell_type": "code",
   "execution_count": 10,
   "id": "48e24c15",
   "metadata": {},
   "outputs": [
    {
     "data": {
      "text/plain": [
       "array([ 1.,  7., 13., 19., 25.])"
      ]
     },
     "execution_count": 10,
     "metadata": {},
     "output_type": "execute_result"
    }
   ],
   "source": [
    "arr2"
   ]
  },
  {
   "cell_type": "code",
   "execution_count": 34,
   "id": "72c8cac3",
   "metadata": {},
   "outputs": [],
   "source": [
    "np.random.seed(15)\n",
    "arr3 = np.random.rand(2,4)"
   ]
  },
  {
   "cell_type": "code",
   "execution_count": 35,
   "id": "0327dc89",
   "metadata": {},
   "outputs": [
    {
     "data": {
      "text/plain": [
       "array([[0.8488177 , 0.17889592, 0.05436321, 0.36153845],\n",
       "       [0.27540093, 0.53000022, 0.30591892, 0.30447436]])"
      ]
     },
     "execution_count": 35,
     "metadata": {},
     "output_type": "execute_result"
    }
   ],
   "source": [
    "arr3"
   ]
  },
  {
   "cell_type": "code",
   "execution_count": 36,
   "id": "f915b623",
   "metadata": {},
   "outputs": [
    {
     "data": {
      "text/plain": [
       "array([[0.8488177 , 0.17889592, 0.05436321, 0.36153845],\n",
       "       [0.27540093, 0.53000022, 0.30591892, 0.30447436]])"
      ]
     },
     "execution_count": 36,
     "metadata": {},
     "output_type": "execute_result"
    }
   ],
   "source": [
    "arr3"
   ]
  },
  {
   "cell_type": "code",
   "execution_count": 31,
   "id": "410e2815",
   "metadata": {},
   "outputs": [],
   "source": [
    "arr4 = np.random.randn(10,10)"
   ]
  },
  {
   "cell_type": "code",
   "execution_count": 26,
   "id": "8ee3aaa4",
   "metadata": {
    "scrolled": true
   },
   "outputs": [
    {
     "data": {
      "text/plain": [
       "array([[-3.45120807e-01, -8.78930294e-01,  1.15265886e+00,\n",
       "        -1.55970624e+00, -1.28807165e+00,  1.90733799e+00,\n",
       "         1.79101559e-01, -5.31666880e-02, -9.10374654e-01,\n",
       "        -1.93002367e+00],\n",
       "       [ 1.12446551e+00, -1.36472281e+00, -5.26288431e-01,\n",
       "        -1.73007315e+00,  1.85848178e+00,  9.71745091e-01,\n",
       "        -6.42437058e-02, -2.56267749e-01,  7.35823858e-01,\n",
       "        -1.57798062e+00],\n",
       "       [-8.09473417e-02, -1.11540742e+00, -7.59215949e-01,\n",
       "         8.54319743e-01,  2.26020813e-01,  7.41124124e-01,\n",
       "         1.97969831e+00, -2.26596732e-01,  5.42416782e-01,\n",
       "        -1.56296485e+00],\n",
       "       [ 1.21708164e-01, -1.17843040e+00, -1.36026116e+00,\n",
       "        -9.28187667e-01,  8.49378085e-02,  2.83959131e-03,\n",
       "        -6.44836743e-01,  4.26301918e-01, -9.35979026e-01,\n",
       "         1.17899687e-01],\n",
       "       [-1.24546379e+00,  7.63946847e-01,  2.13189082e+00,\n",
       "        -8.00262237e-01, -6.31966770e-01,  3.51615822e-01,\n",
       "        -9.81439967e-01, -1.72752297e+00,  8.91353486e-02,\n",
       "         2.35216665e-01],\n",
       "       [-1.09675246e+00,  1.94589340e-01,  8.63896725e-01,\n",
       "        -4.90538051e-01,  4.98357438e-01, -4.84651621e-01,\n",
       "        -1.14095902e+00, -1.36200989e+00,  2.86394890e-01,\n",
       "         2.27898618e-01],\n",
       "       [-5.89355017e-01,  1.90195207e-01,  1.75965926e+00,\n",
       "         1.38408013e+00,  4.43783897e-01,  6.31323619e-01,\n",
       "         1.27071812e+00,  8.59826374e-01, -7.29096566e-01,\n",
       "         1.26597092e+00],\n",
       "       [-4.00227142e-02, -6.57564881e-01,  9.53857588e-01,\n",
       "        -3.33001997e-01,  7.46406683e-01,  6.26934042e-01,\n",
       "        -5.42626360e-01,  1.84966424e+00, -1.52568664e+00,\n",
       "         1.47907468e+00],\n",
       "       [-1.34495525e+00,  5.65259809e-01,  1.05039355e+00,\n",
       "         1.28158507e+00, -3.63231346e+00,  3.85434649e-01,\n",
       "        -7.75485659e-01,  9.06963092e-01, -5.28090118e-01,\n",
       "        -1.12156985e-01],\n",
       "       [ 1.06896445e+00, -6.37767646e-01, -1.86013011e+00,\n",
       "        -9.90933899e-01, -4.89111279e-01,  6.82466753e-02,\n",
       "        -1.65292985e+00, -3.26579301e-02, -7.49042804e-01,\n",
       "         1.57373746e-01]])"
      ]
     },
     "execution_count": 26,
     "metadata": {},
     "output_type": "execute_result"
    }
   ],
   "source": [
    "arr4"
   ]
  },
  {
   "cell_type": "code",
   "execution_count": 27,
   "id": "46a930b4",
   "metadata": {},
   "outputs": [
    {
     "data": {
      "text/plain": [
       "-0.10846753796318005"
      ]
     },
     "execution_count": 27,
     "metadata": {},
     "output_type": "execute_result"
    }
   ],
   "source": [
    "np.mean(arr4)"
   ]
  },
  {
   "cell_type": "code",
   "execution_count": 21,
   "id": "0f08b7fa",
   "metadata": {},
   "outputs": [],
   "source": [
    "ls2 = [ 0.45694304, -1.67225182, -0.91943279, -1.03602013,  2.21947572]"
   ]
  },
  {
   "cell_type": "code",
   "execution_count": 23,
   "id": "0a8cdef7",
   "metadata": {},
   "outputs": [
    {
     "data": {
      "text/plain": [
       "-0.19025719599999996"
      ]
     },
     "execution_count": 23,
     "metadata": {},
     "output_type": "execute_result"
    }
   ],
   "source": [
    "sum(ls2)/len(ls2)"
   ]
  },
  {
   "cell_type": "code",
   "execution_count": 28,
   "id": "bd36c56e",
   "metadata": {},
   "outputs": [
    {
     "data": {
      "text/plain": [
       "1.111911553982684"
      ]
     },
     "execution_count": 28,
     "metadata": {},
     "output_type": "execute_result"
    }
   ],
   "source": [
    "np.var(arr4)"
   ]
  },
  {
   "cell_type": "code",
   "execution_count": 37,
   "id": "ebdcf90d",
   "metadata": {},
   "outputs": [
    {
     "data": {
      "text/plain": [
       "array([[0.8488177 , 0.17889592, 0.05436321, 0.36153845],\n",
       "       [0.27540093, 0.53000022, 0.30591892, 0.30447436]])"
      ]
     },
     "execution_count": 37,
     "metadata": {},
     "output_type": "execute_result"
    }
   ],
   "source": [
    "arr3"
   ]
  },
  {
   "cell_type": "code",
   "execution_count": 38,
   "id": "85d21848",
   "metadata": {},
   "outputs": [],
   "source": [
    "np.random.seed(26)\n",
    "arr3 = np.random.rand(3,3)"
   ]
  },
  {
   "cell_type": "code",
   "execution_count": 39,
   "id": "841200e9",
   "metadata": {},
   "outputs": [
    {
     "data": {
      "text/plain": [
       "array([[0.30793495, 0.51939148, 0.76829766],\n",
       "       [0.78922074, 0.87056206, 0.18792139],\n",
       "       [0.26950525, 0.49619214, 0.73912175]])"
      ]
     },
     "execution_count": 39,
     "metadata": {},
     "output_type": "execute_result"
    }
   ],
   "source": [
    "arr3"
   ]
  },
  {
   "cell_type": "code",
   "execution_count": 40,
   "id": "ff1f1c28",
   "metadata": {},
   "outputs": [
    {
     "data": {
      "text/plain": [
       "array([[0.30793495, 0.51939148, 0.76829766],\n",
       "       [0.78922074, 0.87056206, 0.18792139],\n",
       "       [0.26950525, 0.49619214, 0.73912175]])"
      ]
     },
     "execution_count": 40,
     "metadata": {},
     "output_type": "execute_result"
    }
   ],
   "source": [
    "arr3"
   ]
  },
  {
   "cell_type": "code",
   "execution_count": 47,
   "id": "8f5fc785",
   "metadata": {},
   "outputs": [],
   "source": [
    "arr5 = np.random.randint(5, 30, (3,4))"
   ]
  },
  {
   "cell_type": "code",
   "execution_count": 48,
   "id": "dd1ff79b",
   "metadata": {},
   "outputs": [
    {
     "data": {
      "text/plain": [
       "array([[20, 21, 17, 23],\n",
       "       [17, 24, 24, 24],\n",
       "       [ 8, 22, 17, 22]])"
      ]
     },
     "execution_count": 48,
     "metadata": {},
     "output_type": "execute_result"
    }
   ],
   "source": [
    "arr5"
   ]
  },
  {
   "cell_type": "code",
   "execution_count": 51,
   "id": "ca5e5200",
   "metadata": {},
   "outputs": [],
   "source": [
    "arr6 = np.zeros(5, dtype=int)"
   ]
  },
  {
   "cell_type": "code",
   "execution_count": 52,
   "id": "15850f5a",
   "metadata": {},
   "outputs": [
    {
     "data": {
      "text/plain": [
       "array([0, 0, 0, 0, 0])"
      ]
     },
     "execution_count": 52,
     "metadata": {},
     "output_type": "execute_result"
    }
   ],
   "source": [
    "arr6"
   ]
  },
  {
   "cell_type": "code",
   "execution_count": 56,
   "id": "3a4f3608",
   "metadata": {},
   "outputs": [],
   "source": [
    "arr7 = np.ones((2,2))"
   ]
  },
  {
   "cell_type": "code",
   "execution_count": 61,
   "id": "d52c64ba",
   "metadata": {},
   "outputs": [
    {
     "data": {
      "text/plain": [
       "array([[1., 1.],\n",
       "       [1., 1.]])"
      ]
     },
     "execution_count": 61,
     "metadata": {},
     "output_type": "execute_result"
    }
   ],
   "source": [
    "arr7"
   ]
  },
  {
   "cell_type": "code",
   "execution_count": 58,
   "id": "a921bd31",
   "metadata": {},
   "outputs": [],
   "source": [
    "arr8 = np.full((3,3), 5)"
   ]
  },
  {
   "cell_type": "code",
   "execution_count": 59,
   "id": "262d6951",
   "metadata": {},
   "outputs": [
    {
     "data": {
      "text/plain": [
       "array([[5, 5, 5],\n",
       "       [5, 5, 5],\n",
       "       [5, 5, 5]])"
      ]
     },
     "execution_count": 59,
     "metadata": {},
     "output_type": "execute_result"
    }
   ],
   "source": [
    "arr8"
   ]
  },
  {
   "cell_type": "code",
   "execution_count": 62,
   "id": "0da81317",
   "metadata": {},
   "outputs": [
    {
     "data": {
      "text/plain": [
       "(3, 3)"
      ]
     },
     "execution_count": 62,
     "metadata": {},
     "output_type": "execute_result"
    }
   ],
   "source": [
    "arr8.shape"
   ]
  },
  {
   "cell_type": "code",
   "execution_count": 80,
   "id": "3dc0f016",
   "metadata": {},
   "outputs": [],
   "source": [
    "np.random.seed(22)\n",
    "arr9 = np.random.randint(0, 25, (4,3,2))"
   ]
  },
  {
   "cell_type": "code",
   "execution_count": 76,
   "id": "c948407b",
   "metadata": {},
   "outputs": [
    {
     "data": {
      "text/plain": [
       "array([[[21,  4],\n",
       "        [12,  0],\n",
       "        [ 4,  6],\n",
       "        [22, 11]],\n",
       "\n",
       "       [[20,  8],\n",
       "        [ 4, 18],\n",
       "        [14, 13],\n",
       "        [24,  7]],\n",
       "\n",
       "       [[ 2,  9],\n",
       "        [ 8,  8],\n",
       "        [ 5, 15],\n",
       "        [20,  2]]])"
      ]
     },
     "execution_count": 76,
     "metadata": {},
     "output_type": "execute_result"
    }
   ],
   "source": [
    "arr9"
   ]
  },
  {
   "cell_type": "code",
   "execution_count": 70,
   "id": "9aeaafa5",
   "metadata": {},
   "outputs": [
    {
     "data": {
      "text/plain": [
       "array([[21,  4, 12],\n",
       "       [ 0,  4,  6],\n",
       "       [22, 11, 20],\n",
       "       [ 8,  4, 18]])"
      ]
     },
     "execution_count": 70,
     "metadata": {},
     "output_type": "execute_result"
    }
   ],
   "source": [
    "arr9.reshape(4,3)"
   ]
  },
  {
   "cell_type": "code",
   "execution_count": 81,
   "id": "4bd73398",
   "metadata": {},
   "outputs": [
    {
     "data": {
      "text/plain": [
       "array([[[21,  4],\n",
       "        [12,  0],\n",
       "        [ 4,  6]],\n",
       "\n",
       "       [[22, 11],\n",
       "        [20,  8],\n",
       "        [ 4, 18]],\n",
       "\n",
       "       [[14, 13],\n",
       "        [24,  7],\n",
       "        [ 2,  9]],\n",
       "\n",
       "       [[ 8,  8],\n",
       "        [ 5, 15],\n",
       "        [20,  2]]])"
      ]
     },
     "execution_count": 81,
     "metadata": {},
     "output_type": "execute_result"
    }
   ],
   "source": [
    "arr9"
   ]
  },
  {
   "cell_type": "code",
   "execution_count": 83,
   "id": "d6f10ff0",
   "metadata": {},
   "outputs": [
    {
     "data": {
      "text/plain": [
       "array([[22, 13],\n",
       "       [24, 15],\n",
       "       [20, 18]])"
      ]
     },
     "execution_count": 83,
     "metadata": {},
     "output_type": "execute_result"
    }
   ],
   "source": [
    "arr9.max(axis=0)"
   ]
  },
  {
   "cell_type": "code",
   "execution_count": 84,
   "id": "bf7370f9",
   "metadata": {},
   "outputs": [
    {
     "data": {
      "text/plain": [
       "array([[21,  6],\n",
       "       [22, 18],\n",
       "       [24, 13],\n",
       "       [20, 15]])"
      ]
     },
     "execution_count": 84,
     "metadata": {},
     "output_type": "execute_result"
    }
   ],
   "source": [
    "arr9.max(axis=1)"
   ]
  },
  {
   "cell_type": "code",
   "execution_count": 86,
   "id": "7980561a",
   "metadata": {},
   "outputs": [
    {
     "data": {
      "text/plain": [
       "array([[[21,  4],\n",
       "        [12,  0],\n",
       "        [ 4,  6]],\n",
       "\n",
       "       [[22, 11],\n",
       "        [20,  8],\n",
       "        [ 4, 18]],\n",
       "\n",
       "       [[14, 13],\n",
       "        [24,  7],\n",
       "        [ 2,  9]],\n",
       "\n",
       "       [[ 8,  8],\n",
       "        [ 5, 15],\n",
       "        [20,  2]]])"
      ]
     },
     "execution_count": 86,
     "metadata": {},
     "output_type": "execute_result"
    }
   ],
   "source": [
    "arr9"
   ]
  },
  {
   "cell_type": "code",
   "execution_count": 85,
   "id": "13fe14fe",
   "metadata": {},
   "outputs": [
    {
     "data": {
      "text/plain": [
       "array([[21, 12,  6],\n",
       "       [22, 20, 18],\n",
       "       [14, 24,  9],\n",
       "       [ 8, 15, 20]])"
      ]
     },
     "execution_count": 85,
     "metadata": {},
     "output_type": "execute_result"
    }
   ],
   "source": [
    "arr9.max(axis=2)"
   ]
  },
  {
   "cell_type": "code",
   "execution_count": 88,
   "id": "233d864b",
   "metadata": {},
   "outputs": [
    {
     "data": {
      "text/plain": [
       "array([[8, 4],\n",
       "       [5, 0],\n",
       "       [2, 2]])"
      ]
     },
     "execution_count": 88,
     "metadata": {},
     "output_type": "execute_result"
    }
   ],
   "source": [
    "arr9.min(axis=0)"
   ]
  },
  {
   "cell_type": "code",
   "execution_count": 90,
   "id": "4e35ffe6",
   "metadata": {},
   "outputs": [
    {
     "data": {
      "text/plain": [
       "array([[4, 0],\n",
       "       [4, 8],\n",
       "       [2, 7],\n",
       "       [5, 2]])"
      ]
     },
     "execution_count": 90,
     "metadata": {},
     "output_type": "execute_result"
    }
   ],
   "source": [
    "arr9.min(axis=1)"
   ]
  },
  {
   "cell_type": "code",
   "execution_count": 91,
   "id": "ba11661e",
   "metadata": {},
   "outputs": [
    {
     "data": {
      "text/plain": [
       "array([[ 4,  0,  4],\n",
       "       [11,  8,  4],\n",
       "       [13,  7,  2],\n",
       "       [ 8,  5,  2]])"
      ]
     },
     "execution_count": 91,
     "metadata": {},
     "output_type": "execute_result"
    }
   ],
   "source": [
    "arr9.min(axis=2)"
   ]
  },
  {
   "cell_type": "code",
   "execution_count": 93,
   "id": "678f005b",
   "metadata": {},
   "outputs": [
    {
     "data": {
      "text/plain": [
       "array([[[21,  4],\n",
       "        [12,  0],\n",
       "        [ 4,  6]],\n",
       "\n",
       "       [[22, 11],\n",
       "        [20,  8],\n",
       "        [ 4, 18]],\n",
       "\n",
       "       [[14, 13],\n",
       "        [24,  7],\n",
       "        [ 2,  9]],\n",
       "\n",
       "       [[ 8,  8],\n",
       "        [ 5, 15],\n",
       "        [20,  2]]])"
      ]
     },
     "execution_count": 93,
     "metadata": {},
     "output_type": "execute_result"
    }
   ],
   "source": [
    "arr9"
   ]
  },
  {
   "cell_type": "code",
   "execution_count": 95,
   "id": "83e31fdd",
   "metadata": {},
   "outputs": [
    {
     "data": {
      "text/plain": [
       "14"
      ]
     },
     "execution_count": 95,
     "metadata": {},
     "output_type": "execute_result"
    }
   ],
   "source": [
    "arr9.argmax()"
   ]
  },
  {
   "cell_type": "code",
   "execution_count": 97,
   "id": "158bd559",
   "metadata": {},
   "outputs": [
    {
     "data": {
      "text/plain": [
       "(array([3], dtype=int64), array([1], dtype=int64), array([1], dtype=int64))"
      ]
     },
     "execution_count": 97,
     "metadata": {},
     "output_type": "execute_result"
    }
   ],
   "source": [
    "np.where(arr9==15)"
   ]
  },
  {
   "cell_type": "code",
   "execution_count": 98,
   "id": "e838ffa7",
   "metadata": {},
   "outputs": [
    {
     "data": {
      "text/plain": [
       "15"
      ]
     },
     "execution_count": 98,
     "metadata": {},
     "output_type": "execute_result"
    }
   ],
   "source": [
    "arr9[3,1,1]"
   ]
  },
  {
   "cell_type": "code",
   "execution_count": 100,
   "id": "b86c3e11",
   "metadata": {},
   "outputs": [
    {
     "ename": "IndexError",
     "evalue": "index 14 is out of bounds for axis 0 with size 4",
     "output_type": "error",
     "traceback": [
      "\u001b[1;31m---------------------------------------------------------------------------\u001b[0m",
      "\u001b[1;31mIndexError\u001b[0m                                Traceback (most recent call last)",
      "\u001b[1;32m~\\AppData\\Local\\Temp/ipykernel_20376/4127908029.py\u001b[0m in \u001b[0;36m<module>\u001b[1;34m\u001b[0m\n\u001b[1;32m----> 1\u001b[1;33m \u001b[0marr9\u001b[0m\u001b[1;33m[\u001b[0m\u001b[1;36m14\u001b[0m\u001b[1;33m]\u001b[0m\u001b[1;33m\u001b[0m\u001b[1;33m\u001b[0m\u001b[0m\n\u001b[0m",
      "\u001b[1;31mIndexError\u001b[0m: index 14 is out of bounds for axis 0 with size 4"
     ]
    }
   ],
   "source": [
    "arr9[14]"
   ]
  },
  {
   "cell_type": "code",
   "execution_count": 102,
   "id": "71d6885c",
   "metadata": {},
   "outputs": [
    {
     "data": {
      "text/plain": [
       "array([21,  4, 12,  0,  4,  6, 22, 11, 20,  8,  4, 18, 14, 13, 24,  7,  2,\n",
       "        9,  8,  8,  5, 15, 20,  2])"
      ]
     },
     "execution_count": 102,
     "metadata": {},
     "output_type": "execute_result"
    }
   ],
   "source": [
    "arr9.reshape(-1)"
   ]
  },
  {
   "cell_type": "code",
   "execution_count": 103,
   "id": "434d3546",
   "metadata": {},
   "outputs": [
    {
     "data": {
      "text/plain": [
       "array([[[21,  4],\n",
       "        [12,  0],\n",
       "        [ 4,  6]],\n",
       "\n",
       "       [[22, 11],\n",
       "        [20,  8],\n",
       "        [ 4, 18]],\n",
       "\n",
       "       [[14, 13],\n",
       "        [24,  7],\n",
       "        [ 2,  9]],\n",
       "\n",
       "       [[ 8,  8],\n",
       "        [ 5, 15],\n",
       "        [20,  2]]])"
      ]
     },
     "execution_count": 103,
     "metadata": {},
     "output_type": "execute_result"
    }
   ],
   "source": [
    "arr9"
   ]
  },
  {
   "cell_type": "code",
   "execution_count": 104,
   "id": "5e626e25",
   "metadata": {},
   "outputs": [
    {
     "data": {
      "text/plain": [
       "array([[1, 2],\n",
       "       [2, 3],\n",
       "       [3, 1]], dtype=int64)"
      ]
     },
     "execution_count": 104,
     "metadata": {},
     "output_type": "execute_result"
    }
   ],
   "source": [
    "arr9.argmax(axis=0)"
   ]
  },
  {
   "cell_type": "markdown",
   "id": "e1b8d3ff",
   "metadata": {},
   "source": [
    "# Statistic Preclass"
   ]
  },
  {
   "cell_type": "code",
   "execution_count": 145,
   "id": "c91c29c5",
   "metadata": {},
   "outputs": [],
   "source": [
    "x = np.random.normal(10, 2.5, (1000))  # mean=10, std=2.5, size=1000"
   ]
  },
  {
   "cell_type": "code",
   "execution_count": 107,
   "id": "a8bfeab1",
   "metadata": {},
   "outputs": [],
   "source": [
    "import pandas as pd"
   ]
  },
  {
   "cell_type": "code",
   "execution_count": 114,
   "id": "44d28346",
   "metadata": {},
   "outputs": [
    {
     "data": {
      "text/plain": [
       "count    1000.000000\n",
       "mean       10.040743\n",
       "std         2.534717\n",
       "min         1.924600\n",
       "25%         8.263712\n",
       "50%        10.091355\n",
       "75%        11.769719\n",
       "max        18.757180\n",
       "dtype: float64"
      ]
     },
     "execution_count": 114,
     "metadata": {},
     "output_type": "execute_result"
    }
   ],
   "source": [
    "pd.Series(x).describe()"
   ]
  },
  {
   "cell_type": "code",
   "execution_count": 115,
   "id": "d0902409",
   "metadata": {},
   "outputs": [
    {
     "data": {
      "text/plain": [
       "array([[3, 0],\n",
       "       [3, 0],\n",
       "       [2, 3]], dtype=int64)"
      ]
     },
     "execution_count": 115,
     "metadata": {},
     "output_type": "execute_result"
    }
   ],
   "source": [
    "arr9.argmin(axis=0)"
   ]
  },
  {
   "cell_type": "code",
   "execution_count": 135,
   "id": "379f5b0d",
   "metadata": {},
   "outputs": [],
   "source": [
    "temp=[93,84,82,78,98,70]\n",
    "\n",
    "number_of_people=[13,10, 11, 8, 15, 9]"
   ]
  },
  {
   "cell_type": "code",
   "execution_count": 136,
   "id": "fd96ec33",
   "metadata": {},
   "outputs": [
    {
     "data": {
      "text/plain": [
       "array([[102.56666667,  24.        ],\n",
       "       [ 24.        ,   6.8       ]])"
      ]
     },
     "execution_count": 136,
     "metadata": {},
     "output_type": "execute_result"
    }
   ],
   "source": [
    "np.cov(temp, number_of_people)"
   ]
  },
  {
   "cell_type": "code",
   "execution_count": 124,
   "id": "9b5a0c45",
   "metadata": {},
   "outputs": [
    {
     "data": {
      "text/plain": [
       "array(102.56666667)"
      ]
     },
     "execution_count": 124,
     "metadata": {},
     "output_type": "execute_result"
    }
   ],
   "source": [
    "np.cov(temp)"
   ]
  },
  {
   "cell_type": "code",
   "execution_count": 125,
   "id": "96a41d0d",
   "metadata": {},
   "outputs": [
    {
     "data": {
      "text/plain": [
       "array(6.8)"
      ]
     },
     "execution_count": 125,
     "metadata": {},
     "output_type": "execute_result"
    }
   ],
   "source": [
    "np.cov(number_of_people)"
   ]
  },
  {
   "cell_type": "code",
   "execution_count": 132,
   "id": "643bc0a3",
   "metadata": {},
   "outputs": [
    {
     "data": {
      "text/plain": [
       "1.0"
      ]
     },
     "execution_count": 132,
     "metadata": {},
     "output_type": "execute_result"
    }
   ],
   "source": [
    "np.corrcoef(temp)"
   ]
  },
  {
   "cell_type": "code",
   "execution_count": 138,
   "id": "d4e19e1e",
   "metadata": {},
   "outputs": [
    {
     "data": {
      "text/plain": [
       "array([[1.        , 0.90876934],\n",
       "       [0.90876934, 1.        ]])"
      ]
     },
     "execution_count": 138,
     "metadata": {},
     "output_type": "execute_result"
    }
   ],
   "source": [
    "np.corrcoef(temp, number_of_people)"
   ]
  },
  {
   "cell_type": "code",
   "execution_count": 139,
   "id": "4ed3d7d9",
   "metadata": {},
   "outputs": [
    {
     "name": "stdout",
     "output_type": "stream",
     "text": [
      "correlation coefficient and p-value:  (0.9087693361896165, 0.012104893069677013)\n"
     ]
    }
   ],
   "source": [
    "from scipy import stats\n",
    "\n",
    "print(\"correlation coefficient and p-value: \", stats.pearsonr(temp, number_of_people))"
   ]
  },
  {
   "cell_type": "code",
   "execution_count": 140,
   "id": "3fc14c29",
   "metadata": {},
   "outputs": [
    {
     "data": {
      "text/plain": [
       "SpearmanrResult(correlation=0.8857142857142858, pvalue=0.01884548104956266)"
      ]
     },
     "execution_count": 140,
     "metadata": {},
     "output_type": "execute_result"
    }
   ],
   "source": [
    "stats.spearmanr(temp, number_of_people)"
   ]
  },
  {
   "cell_type": "code",
   "execution_count": 141,
   "id": "5f970868",
   "metadata": {},
   "outputs": [
    {
     "data": {
      "text/plain": [
       "array([ 0.95545914, -0.01802753, -0.2343579 , -0.66701865,  1.49628508,\n",
       "       -1.53234014])"
      ]
     },
     "execution_count": 141,
     "metadata": {},
     "output_type": "execute_result"
    }
   ],
   "source": [
    "temp=[93,84,82,78,98,70]\n",
    "stats.zscore(temp)"
   ]
  },
  {
   "cell_type": "code",
   "execution_count": 144,
   "id": "cd791815",
   "metadata": {},
   "outputs": [
    {
     "data": {
      "text/plain": [
       "0.9554591448332905"
      ]
     },
     "execution_count": 144,
     "metadata": {},
     "output_type": "execute_result"
    }
   ],
   "source": [
    "(93-np.mean(temp))/np.std(temp)  # zscore = (x-mean)/std"
   ]
  },
  {
   "cell_type": "code",
   "execution_count": null,
   "id": "c9e65036",
   "metadata": {},
   "outputs": [],
   "source": []
  }
 ],
 "metadata": {
  "kernelspec": {
   "display_name": "Python 3 (ipykernel)",
   "language": "python",
   "name": "python3"
  },
  "language_info": {
   "codemirror_mode": {
    "name": "ipython",
    "version": 3
   },
   "file_extension": ".py",
   "mimetype": "text/x-python",
   "name": "python",
   "nbconvert_exporter": "python",
   "pygments_lexer": "ipython3",
   "version": "3.9.7"
  }
 },
 "nbformat": 4,
 "nbformat_minor": 5
}
